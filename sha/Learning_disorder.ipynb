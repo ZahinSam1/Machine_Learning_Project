{
 "cells": [
  {
   "cell_type": "code",
   "execution_count": null,
   "metadata": {},
   "outputs": [],
   "source": [
    "import pandas as pd \n",
    "import numpy as np \n",
    "import seaborn as sns \n",
    "import matplotlib.pyplot as plt\n"
   ]
  },
  {
   "cell_type": "markdown",
   "metadata": {},
   "source": [
    "# Data Preprocessing\n"
   ]
  },
  {
   "cell_type": "code",
   "execution_count": null,
   "metadata": {},
   "outputs": [],
   "source": [
    "#Read the Dataset\n",
    "df = pd.read_csv('data_csv.csv')\n",
    "df.head()"
   ]
  },
  {
   "cell_type": "code",
   "execution_count": null,
   "metadata": {},
   "outputs": [],
   "source": [
    "#Pandas Profiling, generate a data profiling report for a Pandas DataFrame and then save that report to an HTML file.\n",
    "from ydata_profiling import ProfileReport\n",
    "prof = ProfileReport(df)\n",
    "prof.to_file(output_file = 'ASD.html')"
   ]
  },
  {
   "cell_type": "code",
   "execution_count": null,
   "metadata": {},
   "outputs": [],
   "source": [
    "# function called save_fig for saving figures or plots generated in your data preprocessing or analysis\n",
    "# function is designed to save the figures as image files in a specific directory.\n",
    "\n",
    "import os\n",
    "from pathlib import Path\n",
    "\n",
    "IMAGES_PATH = Path() / \"images\" / \"Data Preprocessing\"\n",
    "IMAGES_PATH.mkdir(parents=True, exist_ok=True)\n",
    "\n",
    "def save_fig(fig_id, tight_layout=True, fig_extension=\"png\", resolution=300):\n",
    "    path = IMAGES_PATH / f\"{fig_id}.{fig_extension}\"\n",
    "    if tight_layout:\n",
    "        plt.tight_layout()\n",
    "    plt.savefig(path, format=fig_extension, dpi=resolution)\n"
   ]
  },
  {
   "cell_type": "code",
   "execution_count": null,
   "metadata": {},
   "outputs": [],
   "source": [
    "import matplotlib.pyplot as plt\n",
    "\n",
    "# extra code – the next 5 lines define the default font sizes\n",
    "plt.rc('font', size=14)\n",
    "plt.rc('axes', labelsize=14, titlesize=14)\n",
    "plt.rc('legend', fontsize=14)\n",
    "plt.rc('xtick', labelsize=10)\n",
    "plt.rc('ytick', labelsize=10)\n",
    "\n",
    "df.hist(bins=50, figsize=(12, 8))\n",
    "save_fig(\"attribute_histogram_plots\")  # extra code\n",
    "plt.show()\n"
   ]
  },
  {
   "cell_type": "code",
   "execution_count": null,
   "metadata": {},
   "outputs": [],
   "source": [
    "df.describe()"
   ]
  },
  {
   "cell_type": "code",
   "execution_count": null,
   "metadata": {},
   "outputs": [],
   "source": [
    "df.isnull().sum()"
   ]
  },
  {
   "cell_type": "code",
   "execution_count": null,
   "metadata": {},
   "outputs": [],
   "source": [
    "df.info()"
   ]
  },
  {
   "cell_type": "code",
   "execution_count": null,
   "metadata": {},
   "outputs": [],
   "source": [
    "# categorical data into numerical form\n",
    "from sklearn.preprocessing import LabelEncoder\n",
    "# Define the categorical columns you want to label encode\n",
    "categorical_columns = ['Speech Delay/Language Disorder', 'Learning disorder', 'Genetic_Disorders', 'Depression', \n",
    "                       'Global developmental delay/intellectual disability',\n",
    "                       'Social/Behavioural Issues', 'Childhood Autism Rating Scale', 'Anxiety_disorder', \n",
    "                       'Sex', 'Ethnicity', 'Jaundice', 'Family_mem_with_ASD', 'Who_completed_the_test', 'ASD_traits']\n",
    "\n",
    "for column in categorical_columns:\n",
    "    labelencoder = LabelEncoder()\n",
    "    \n",
    "    df[column] = labelencoder.fit_transform(df[column])\n"
   ]
  },
  {
   "cell_type": "code",
   "execution_count": null,
   "metadata": {},
   "outputs": [],
   "source": [
    "df.head(1)"
   ]
  },
  {
   "cell_type": "code",
   "execution_count": null,
   "metadata": {},
   "outputs": [],
   "source": [
    "#handling null values\n",
    "df.isnull().sum()"
   ]
  },
  {
   "cell_type": "code",
   "execution_count": null,
   "metadata": {},
   "outputs": [],
   "source": [
    "df.dropna(axis=0,inplace=True)"
   ]
  },
  {
   "cell_type": "code",
   "execution_count": null,
   "metadata": {},
   "outputs": [],
   "source": [
    "df.isnull().sum()"
   ]
  },
  {
   "cell_type": "code",
   "execution_count": null,
   "metadata": {},
   "outputs": [],
   "source": [
    "df.info()"
   ]
  },
  {
   "cell_type": "code",
   "execution_count": null,
   "metadata": {},
   "outputs": [],
   "source": [
    "df.head(5)"
   ]
  },
  {
   "cell_type": "markdown",
   "metadata": {},
   "source": [
    "# Download preprocessed data"
   ]
  },
  {
   "cell_type": "code",
   "execution_count": null,
   "metadata": {},
   "outputs": [],
   "source": [
    "df.to_csv(index=False)"
   ]
  },
  {
   "cell_type": "code",
   "execution_count": null,
   "metadata": {},
   "outputs": [],
   "source": [
    "compression_opts = dict(method='zip',\n",
    "                        archive_name='preprocessed.csv')  \n",
    "df.to_csv('out.zip', index=False,\n",
    "          compression=compression_opts)  "
   ]
  },
  {
   "cell_type": "code",
   "execution_count": null,
   "metadata": {},
   "outputs": [],
   "source": [
    "from pathlib import Path\n",
    "\n",
    "folder_path = Path('C:/Shanila/CSE/cse445/final_project/git_project/Machine_Learning_Project/sha')\n",
    "filepath = folder_path / 'preprocessed.csv'\n",
    "\n",
    "folder_path.mkdir(parents=True, exist_ok=True)\n",
    "df.to_csv(filepath)\n"
   ]
  },
  {
   "cell_type": "code",
   "execution_count": null,
   "metadata": {},
   "outputs": [],
   "source": [
    ">>> import os  \n",
    ">>> os.makedirs('folder/subfolder', exist_ok=True)  \n",
    ">>> df.to_csv('folder/subfolder/out.csv')  "
   ]
  },
  {
   "cell_type": "code",
   "execution_count": null,
   "metadata": {},
   "outputs": [],
   "source": [
    "import os\n",
    "\n",
    "folder_path = 'C:/Shanila/CSE/cse445/final_project/git_project/Machine_Learning_Project/sha'\n",
    "os.makedirs(folder_path, exist_ok=True)\n",
    "\n",
    "df.to_csv(os.path.join(folder_path, 'preprocessed.csv'))\n"
   ]
  },
  {
   "cell_type": "markdown",
   "metadata": {},
   "source": [
    "# ML"
   ]
  },
  {
   "cell_type": "code",
   "execution_count": null,
   "metadata": {},
   "outputs": [],
   "source": [
    "X = df.drop(columns=[\"Learning disorder\", \"CASE_NO_PATIENT'S\"], axis=1)\n",
    "y= df['Learning disorder']\n"
   ]
  },
  {
   "cell_type": "markdown",
   "metadata": {},
   "source": [
    "seperate train 80 and test 20 set"
   ]
  },
  {
   "cell_type": "code",
   "execution_count": null,
   "metadata": {},
   "outputs": [],
   "source": [
    "from sklearn.model_selection import train_test_split\n",
    "X_train,X_test,y_train,y_test=train_test_split(X,y,test_size=0.20,random_state=42)"
   ]
  },
  {
   "cell_type": "markdown",
   "metadata": {},
   "source": [
    "save train and testset"
   ]
  },
  {
   "cell_type": "code",
   "execution_count": null,
   "metadata": {},
   "outputs": [],
   "source": [
    "import pandas as pd\n",
    "import os\n",
    "\n",
    "# Specify the folder paths C:/Shanila/CSE/cse445/final_project/git_project/Machine_Learning_Project/sha\n",
    "train_folder = \"C:\\\\Shanila\\\\CSE\\\\cse445\\\\final_project\\\\git_project\\\\Machine_Learning_Project\\\\sha\\\\train\"\n",
    "test_folder = \"C:\\\\Shanila\\\\CSE\\\\cse445\\\\final_project\\\\git_project\\\\Machine_Learning_project\\\\sha\\\\test\"\n",
    "\n",
    "# Create the folders if they don't exist\n",
    "os.makedirs(train_folder, exist_ok=True)\n",
    "os.makedirs(test_folder, exist_ok=True)\n",
    "\n",
    "# Save X_train and y_train as CSV files in the \"train\" folder\n",
    "train_data = pd.concat([X_train, y_train], axis=1)\n",
    "train_data.to_csv(os.path.join(train_folder, \"train_data.csv\"), index=False)\n",
    "\n",
    "# Save X_test and y_test as CSV files in the \"test\" folder\n",
    "test_data = pd.concat([X_test, y_test], axis=1)\n",
    "test_data.to_csv(os.path.join(test_folder, \"test_data.csv\"), index=False)\n"
   ]
  },
  {
   "cell_type": "code",
   "execution_count": null,
   "metadata": {},
   "outputs": [],
   "source": [
    "#Importing ML Algorithms to test\n",
    "\n",
    "from sklearn.dummy import DummyClassifier\n",
    "from sklearn.tree import DecisionTreeClassifier\n",
    "from sklearn.neighbors import KNeighborsClassifier\n",
    "from sklearn.ensemble import RandomForestClassifier\n",
    "from sklearn.linear_model import LogisticRegression\n",
    "\n",
    "from sklearn.metrics import accuracy_score\n",
    "from sklearn.metrics import classification_report\n",
    "from sklearn.metrics import confusion_matrix\n"
   ]
  },
  {
   "cell_type": "code",
   "execution_count": null,
   "metadata": {},
   "outputs": [],
   "source": [
    "def Results(clf):\n",
    "    print(clf)\n",
    "    clf.fit(X_train, y_train)\n",
    "    predictions = clf.predict(X_test)\n",
    "    print('Train Accuracy', accuracy_score(y_train, clf.predict(X_train)))\n",
    "    print('Test Accuracy', accuracy_score(y_test, predictions))\n",
    "    print(confusion_matrix(y_test, predictions))\n",
    "    print(classification_report(y_test, predictions))\n",
    "    #also pretty confusion matrix\n",
    "    print(\"-\" * 60)"
   ]
  },
  {
   "cell_type": "code",
   "execution_count": null,
   "metadata": {},
   "outputs": [],
   "source": [
    "knn = KNeighborsClassifier(n_neighbors = 5)\n",
    "knn2 = KNeighborsClassifier(n_neighbors = 15)\n",
    "dt1 = DecisionTreeClassifier() #Gini\n",
    "dt2 = DecisionTreeClassifier(criterion = 'entropy') #entropy\n",
    "rf = RandomForestClassifier()\n",
    "dummy = DummyClassifier(strategy = \"most_frequent\")\n",
    "dummy.fit(X, y)\n",
    "logr = LogisticRegression()\n",
    "\n",
    "classifiers = [dummy,  dt1, dt2, rf, knn, knn2, logr]\n",
    "\n",
    "for clf in classifiers:\n",
    "    Results(clf)"
   ]
  },
  {
   "cell_type": "markdown",
   "metadata": {},
   "source": [
    "# save result in result seperately\n",
    "also has csv, doc and images png"
   ]
  },
  {
   "cell_type": "code",
   "execution_count": null,
   "metadata": {},
   "outputs": [],
   "source": [
    "import pandas as pd\n",
    "from docx import Document\n",
    "from docx.enum.table import WD_ALIGN_VERTICAL\n",
    "from docx.shared import Pt\n",
    "from docx.oxml.ns import qn\n",
    "from docx.oxml import OxmlElement\n",
    "from sklearn.metrics import accuracy_score, classification_report, confusion_matrix\n",
    "import matplotlib.pyplot as plt\n",
    "from matplotlib.colors import LinearSegmentedColormap\n",
    "from PIL import Image\n",
    "import numpy as np\n",
    "\n",
    "# Define a function to save the results to both a CSV and a DOCX file\n",
    "def save_results_to_files(clf, csv_file_path, docx_file_path):\n",
    "    clf.fit(X_train, y_train)\n",
    "    predictions = clf.predict(X_test)\n",
    "    train_accuracy = accuracy_score(y_train, clf.predict(X_train))\n",
    "    test_accuracy = accuracy_score(y_test, predictions)\n",
    "    confusion = confusion_matrix(y_test, predictions)\n",
    "    report = classification_report(y_test, predictions, output_dict=True)\n",
    "\n",
    "    # Save results to CSV file\n",
    "    with open(csv_file_path, 'w') as file:\n",
    "        file.write(f\"Train Accuracy: {train_accuracy*100:.4f}%\\n\")\n",
    "        file.write(f\"Test Accuracy: {test_accuracy*100:.4f}%\\n\")\n",
    "        file.write(\"Confusion Matrix:\\n\")\n",
    "        file.write(str(confusion) + \"\\n\")\n",
    "        file.write(\"Classification Report:\\n\")\n",
    "\n",
    "        # Split the classification report into lines\n",
    "        report_lines = classification_report(y_test, predictions).split('\\n')\n",
    "        for line in report_lines:\n",
    "            # Check if the line is not empty\n",
    "            if line:\n",
    "                # Split the line into words\n",
    "                words = line.split()\n",
    "                # Format precision, recall, f1-score, and support as percentages\n",
    "                formatted_line = ' '.join([f'{float(word)*100:.4f}%' if '%' in word else word for word in words])\n",
    "                file.write(formatted_line + '\\n')\n",
    "\n",
    "    # Save results to DOCX file\n",
    "    document = Document()\n",
    "    document.add_heading('Classifier Results', 0)\n",
    "\n",
    "    # Create a table for the results\n",
    "    table = document.add_table(rows=1, cols=2)\n",
    "    table.style = 'Table Grid'\n",
    "\n",
    "    # Add header row to the table\n",
    "    header_cells = table.rows[0].cells\n",
    "    header_cells[0].text = 'Metric'\n",
    "    header_cells[1].text = 'Value'\n",
    "\n",
    "    # Add rows to the table\n",
    "    rows = [('Train Accuracy', f'{train_accuracy*100:.4f}%'),\n",
    "            ('Test Accuracy', f'{test_accuracy*100:.4f}%'),\n",
    "            ('Confusion Matrix', classification_report(y_test, predictions)),\n",
    "            ('Classification Report', classification_report(y_test, predictions))]\n",
    "\n",
    "    for metric, value in rows:\n",
    "        row_cells = table.add_row().cells\n",
    "        row_cells[0].text = metric\n",
    "        row_cells[1].text = value\n",
    "\n",
    "    # Save the DOCX file\n",
    "    document.save(docx_file_path)\n",
    "\n",
    "    # Save the confusion matrix as a PNG\n",
    "    save_confusion_matrix_as_png(confusion, clf)\n",
    "\n",
    "# Function to save the confusion matrix as a PNG image\n",
    "def save_confusion_matrix_as_png(matrix, clf):\n",
    "    # Create a custom color map with specified colors\n",
    "    colors = ['#B1BCE6', '#B2C8DF', '#C4D7E0', '#EFEFEF']\n",
    "    cmap = LinearSegmentedColormap.from_list('Custom', colors, N=matrix.max() + 1)\n",
    "\n",
    "    # Plot the confusion matrix with the custom color map\n",
    "    plt.figure(figsize=(6, 6))\n",
    "    plt.imshow(matrix, interpolation='nearest', cmap=cmap)\n",
    "    plt.colorbar()\n",
    "\n",
    "    # Add labels to the confusion matrix\n",
    "    for i in range(matrix.shape[0]):\n",
    "        for j in range(matrix.shape[1]):\n",
    "            plt.text(j, i, matrix[i, j], horizontalalignment='center', verticalalignment='center', fontsize=12, color='black')\n",
    "\n",
    "    plt.title(f'Confusion Matrix - {clf}')\n",
    "    plt.xlabel('Predicted')\n",
    "    plt.ylabel('Actual')\n",
    "\n",
    "    # Save the confusion matrix as a PNG image\n",
    "    plt.savefig(f\"{result_directory}/{clf}_confusion_matrix.png\", bbox_inches='tight', dpi=100)\n",
    "    plt.close()\n",
    "\n",
    "# Specify the directory for saving the result files Shanila\\\\CSE\\\\cse445\\\\final_project\\\\git_project\\\\Machine_Learning_project\\\\sha\\\\\n",
    "result_directory = \"C:\\\\Shanila\\\\CSE\\\\cse445\\\\final_project\\\\git_project\\\\Machine_Learning_project\\\\sha\\\\result\\\\\"\n",
    "\n",
    "# List of classifiers to evaluate\n",
    "classifiers = [dummy, dt1, dt2, rf, knn, knn2, logr]\n",
    "\n",
    "for clf in classifiers:\n",
    "    # Generate file names based on the classifier's name\n",
    "    classifier_name = clf.__class__.__name__\n",
    "    csv_file_path = result_directory + f\"{classifier_name}_results.csv\"\n",
    "    docx_file_path = result_directory + f\"{classifier_name}_results.docx\"\n",
    "\n",
    "    # Call the function to save the results\n",
    "    save_results_to_files(clf, csv_file_path, docx_file_path)\n"
   ]
  },
  {
   "cell_type": "markdown",
   "metadata": {},
   "source": [
    "bar chart for test and train set"
   ]
  },
  {
   "cell_type": "code",
   "execution_count": null,
   "metadata": {},
   "outputs": [],
   "source": [
    "import matplotlib.pyplot as plt\n",
    "import numpy as np\n",
    "\n",
    "# List of classifiers\n",
    "classifiers = [dummy, dt1, dt2, rf, knn, knn2, logr]\n",
    "\n",
    "# Train and test accuracies for each classifier\n",
    "train_accuracies = [accuracy_score(y_train, clf.predict(X_train)) for clf in classifiers]\n",
    "test_accuracies = [accuracy_score(y_test, clf.predict(X_test)) for clf in classifiers]\n",
    "\n",
    "# Bar positions\n",
    "positions = np.arange(len(classifiers))\n",
    "\n",
    "# Bar height\n",
    "bar_height = 0.35\n",
    "\n",
    "# Bar colors\n",
    "train_colors = ['#7895B2'] * len(classifiers)\n",
    "test_colors = ['#D2DAFF'] * len(classifiers)\n",
    "\n",
    "# Create the horizontal bar chart for train set accuracy\n",
    "plt.figure(figsize=(10, 6))\n",
    "plt.barh(positions - bar_height/2, train_accuracies, bar_height, label='Train Set Accuracy', color=train_colors, edgecolor='black', linewidth=0.5)\n",
    "\n",
    "# Create the horizontal bar chart for test set accuracy\n",
    "plt.barh(positions + bar_height/2, test_accuracies, bar_height, label='Test Set Accuracy', color=test_colors, edgecolor='black', linewidth=0.5)\n",
    "\n",
    "# Add accuracy percentages on top of each bar\n",
    "for i in range(len(classifiers)):\n",
    "    plt.text(train_accuracies[i] + 0.005, i - bar_height / 2, f'{train_accuracies[i]*100:.2f}%', color='black', ha='left')\n",
    "    plt.text(test_accuracies[i] + 0.005, i + bar_height / 2, f'{test_accuracies[i]*100:.2f}%', color='black', ha='left')\n",
    "\n",
    "# Set the y-axis labels\n",
    "plt.yticks(positions, ['Dummy', 'Decision Tree (Gini)', 'Decision Tree (Entropy)', 'Random Forest', 'K-Nearest Neighbors (k=5)', 'K-Nearest Neighbors (k=15)', 'Logistic Regression'])\n",
    "\n",
    "# Set the x-axis label\n",
    "plt.xlabel('Accuracy')\n",
    "\n",
    "# Set the chart title\n",
    "plt.title('Classifier Train and Test Set Accuracy')\n",
    "\n",
    "# Set x-axis limits to provide more space for the labels\n",
    "plt.xlim(0, 1.3)\n",
    "\n",
    "# Show the legend\n",
    "plt.legend(loc='best')\n",
    "\n",
    "# Display the plot\n",
    "plt.tight_layout()\n",
    "\n",
    "# Save the plot to the specified destination in high definition\n",
    "plot_save_path = \"C:\\\\Shanila\\\\CSE\\\\cse445\\\\final_project\\\\git_project\\\\Machine_Learning_project\\\\sha\\\\result2\\\\classifier_accuracy_horizontal.png\"\n",
    "plt.savefig(plot_save_path, bbox_inches='tight', dpi=300)\n",
    "plt.show()\n"
   ]
  },
  {
   "cell_type": "markdown",
   "metadata": {},
   "source": [
    "# save the result in results.csv FINAL"
   ]
  },
  {
   "cell_type": "code",
   "execution_count": null,
   "metadata": {},
   "outputs": [],
   "source": [
    "from sklearn.dummy import DummyClassifier\n",
    "from sklearn.tree import DecisionTreeClassifier\n",
    "from sklearn.neighbors import KNeighborsClassifier\n",
    "from sklearn.ensemble import RandomForestClassifier\n",
    "from sklearn.linear_model import LogisticRegression\n",
    "from sklearn.metrics import accuracy_score, classification_report, confusion_matrix\n",
    "import pandas as pd\n",
    "\n",
    "# Load the training and testing data from CSV files\n",
    "train_data = pd.read_csv(\"C:\\\\Shanila\\\\CSE\\\\cse445\\\\final_project\\\\git_project\\\\Machine_Learning_project\\\\sha\\\\train\\\\train_data.csv\")\n",
    "test_data = pd.read_csv(\"C:\\\\Shanila\\\\CSE\\\\cse445\\\\final_project\\\\git_project\\\\Machine_Learning_project\\\\sha\\\\test\\\\test_data.csv\")\n",
    "\n",
    "# Separate features (X) and target (y) for both training and testing data\n",
    "X_train = train_data.drop(columns=[\"Learning disorder\"])\n",
    "y_train = train_data[\"Learning disorder\"]\n",
    "X_test = test_data.drop(columns=[\"Learning disorder\"])\n",
    "y_test = test_data[\"Learning disorder\"]\n",
    "\n",
    "# Create a dictionary to store results\n",
    "results = {}\n",
    "\n",
    "# Initialize and evaluate different classifiers\n",
    "classifiers = {\n",
    "    \"Dummy Classifier\": DummyClassifier(),\n",
    "    \"Decision Tree\": DecisionTreeClassifier(),\n",
    "    \"K-Nearest Neighbors\": KNeighborsClassifier(),\n",
    "    \"Random Forest\": RandomForestClassifier(),\n",
    "    \"Logistic Regression\": LogisticRegression()\n",
    "}\n",
    "\n",
    "for name, classifier in classifiers.items():\n",
    "    # Fit the classifier on the training data\n",
    "    classifier.fit(X_train, y_train)\n",
    "    \n",
    "    # Make predictions on the testing data\n",
    "    predictions = classifier.predict(X_test)\n",
    "    \n",
    "    # Evaluate the classifier and store the results\n",
    "    accuracy = accuracy_score(y_test, predictions)\n",
    "    report = classification_report(y_test, predictions)\n",
    "    matrix = confusion_matrix(y_test, predictions)\n",
    "    \n",
    "    results[name] = {\n",
    "        \"Accuracy\": accuracy,\n",
    "        \"Classification Report\": report,\n",
    "        \"Confusion Matrix\": matrix\n",
    "    }\n",
    "\n",
    "# Create a DataFrame from the results dictionary\n",
    "results_df = pd.DataFrame(results)\n",
    "\n",
    "# Specify the path to save the results as a CSV file\n",
    "results_csv_path = \"C:\\\\Shanila\\\\CSE\\\\cse445\\\\final_project\\\\git_project\\\\Machine_Learning_project\\\\sha\\\\results.csv\"\n",
    "\n",
    "# Save the results as a CSV file\n",
    "results_df.to_csv(results_csv_path, index=False)\n",
    "\n",
    "# Optionally, you can also display the results DataFrame\n",
    "print(results_df)\n"
   ]
  },
  {
   "cell_type": "markdown",
   "metadata": {},
   "source": [
    "## HYPERPARAMETER TUNING "
   ]
  },
  {
   "cell_type": "markdown",
   "metadata": {},
   "source": [
    "entropy"
   ]
  },
  {
   "cell_type": "code",
   "execution_count": null,
   "metadata": {},
   "outputs": [],
   "source": [
    "### Manual Hyperparameter Tuning\n",
    "model=RandomForestClassifier(n_estimators=300,criterion='entropy',\n",
    "                             max_features='sqrt',min_samples_leaf=10,random_state=100).fit(X_train,y_train)\n",
    "predictions=model.predict(X_test)\n",
    "print(confusion_matrix(y_test,predictions))\n",
    "print(accuracy_score(y_test,predictions))\n",
    "print(classification_report(y_test,predictions))"
   ]
  },
  {
   "cell_type": "markdown",
   "metadata": {},
   "source": [
    "gini"
   ]
  },
  {
   "cell_type": "code",
   "execution_count": null,
   "metadata": {},
   "outputs": [],
   "source": [
    "### Manual Hyperparameter Tuning 2\n",
    "model=RandomForestClassifier(n_estimators=500,criterion='gini',\n",
    "                             max_features='sqrt',min_samples_leaf=10,random_state=100).fit(X_train,y_train)\n",
    "predictions=model.predict(X_test)\n",
    "print(confusion_matrix(y_test,predictions))\n",
    "print(accuracy_score(y_test,predictions))\n",
    "print(classification_report(y_test,predictions))"
   ]
  },
  {
   "cell_type": "code",
   "execution_count": null,
   "metadata": {},
   "outputs": [],
   "source": [
    "import matplotlib.pyplot as plt\n",
    "\n",
    "# Create a list of the hyperparameters for each search method\n",
    "manual_search_hyperparameters = [[300, 'entropy', 'sqrt', 10], [500, 'gini', 'sqrt', 10]]\n",
    "accuracy_scores = [0.9948453608247423, 0.9948453608247423]\n",
    "\n",
    "# Create a new list that contains the corresponding elements from each list\n",
    "x = []\n",
    "y = []\n",
    "for hyperparameters, accuracy_score in zip(manual_search_hyperparameters, accuracy_scores):\n",
    "    x.append(hyperparameters[0])\n",
    "    y.append(accuracy_score)\n",
    "\n",
    "# Create a scatter plot of the hyperparameters\n",
    "plt.scatter(x, y, label='Manual search')\n",
    "\n",
    "# Add labels and a title\n",
    "plt.xlabel('Number of estimators')\n",
    "plt.ylabel('Accuracy')\n",
    "plt.title('Accuracy scores for different hyperparameters')\n",
    "plt.legend()\n",
    "\n",
    "# Save the plot as a PNG image\n",
    "plt.savefig('C:\\\\Shanila\\\\CSE\\\\cse445\\\\final_project\\\\git_project\\Machine_Learning_Project\\\\sha\\\\result4\\\\manual_search_plot.png', dpi=300)\n"
   ]
  },
  {
   "cell_type": "markdown",
   "metadata": {},
   "source": [
    "# Randomized search"
   ]
  },
  {
   "cell_type": "code",
   "execution_count": null,
   "metadata": {},
   "outputs": [],
   "source": [
    "import numpy as np\n",
    "from sklearn.model_selection import RandomizedSearchCV\n",
    "# Number of trees in random forest\n",
    "n_estimators = [int(x) for x in np.linspace(start = 200, stop = 2000, num = 10)]\n",
    "# Number of features to consider at every split\n",
    "max_features = ['auto', 'sqrt','log2']\n",
    "# Maximum number of levels in tree\n",
    "max_depth = [int(x) for x in np.linspace(10, 1000,10)]\n",
    "# Minimum number of samples required to split a node\n",
    "min_samples_split = [2, 5, 10,14]\n",
    "# Minimum number of samples required at each leaf node\n",
    "min_samples_leaf = [1, 2, 4,6,8]\n",
    "# Create the random grid\n",
    "# num of features 26\n",
    "random_grid = {\n",
    "    'n_estimators': n_estimators,\n",
    "    'max_features': ['auto', 'sqrt', 'log2'] + list(range(1, 27)) + [0.1, 0.2, 0.3, None],\n",
    "    'max_depth': max_depth,\n",
    "    'min_samples_split': min_samples_split,\n",
    "    'min_samples_leaf': min_samples_leaf,\n",
    "    'criterion': ['entropy', 'gini']\n",
    "}\n",
    "print(random_grid)"
   ]
  },
  {
   "cell_type": "markdown",
   "metadata": {},
   "source": [
    " performing hyperparameter tuning for a Random Forest classifier using Randomized Search"
   ]
  },
  {
   "cell_type": "code",
   "execution_count": null,
   "metadata": {},
   "outputs": [],
   "source": [
    "rf=RandomForestClassifier()\n",
    "rf_randomcv=RandomizedSearchCV(estimator=rf,param_distributions=random_grid,n_iter=10,cv=3,verbose=2,\n",
    "                               random_state=100,n_jobs=-1)\n",
    "### fit the randomized model\n",
    "rf_randomcv.fit(X_train,y_train)"
   ]
  },
  {
   "cell_type": "markdown",
   "metadata": {},
   "source": [
    "comparison between entropy and gini graph"
   ]
  },
  {
   "cell_type": "code",
   "execution_count": 39,
   "metadata": {},
   "outputs": [
    {
     "data": {
      "image/png": "[encoded data removed]",
      "text/plain": [
       "<Figure size 1000x600 with 1 Axes>"
      ]
     },
     "metadata": {},
     "output_type": "display_data"
    }
   ],
   "source": [
    "import numpy as np\n",
    "import matplotlib.pyplot as plt\n",
    "import seaborn as sns\n",
    "\n",
    "# Extract relevant data for Gini and Entropy configurations\n",
    "gini_mask = results['param_criterion'] == 'gini'\n",
    "entropy_mask = results['param_criterion'] == 'entropy'\n",
    "\n",
    "gini_results = {\n",
    "    'n_estimators': np.array(results['param_n_estimators'])[gini_mask],\n",
    "    'mean_test_score': np.array(results['mean_test_score'])[gini_mask]\n",
    "}\n",
    "\n",
    "entropy_results = {\n",
    "    'n_estimators': np.array(results['param_n_estimators'])[entropy_mask],\n",
    "    'mean_test_score': np.array(results['mean_test_score'])[entropy_mask]\n",
    "}\n",
    "\n",
    "# Create a figure and axes for the plot\n",
    "fig, ax = plt.subplots(figsize=(10, 6))\n",
    "\n",
    "# Plot the comparison\n",
    "sns.lineplot(x=gini_results['n_estimators'], y=gini_results['mean_test_score'], label='Gini')\n",
    "sns.lineplot(x=entropy_results['n_estimators'], y=entropy_results['mean_test_score'], label='Entropy')\n",
    "\n",
    "# Customize the plot\n",
    "plt.title('Comparison of Gini vs. Entropy in Randomized Search')\n",
    "plt.xlabel('Number of Estimators')\n",
    "plt.ylabel('Mean Test Score')\n",
    "plt.legend()\n",
    "\n",
    "# Save the plot as a PNG file \n",
    "save_path = r'C:\\Shanila\\CSE\\cse445\\final_project\\git_project\\Machine_Learning_project\\sha\\result3\\comparison2_plot.png'\n",
    "plt.savefig(save_path, bbox_inches='tight')\n",
    "\n",
    "# Show the plot (optional)\n",
    "plt.show()\n"
   ]
  },
  {
   "cell_type": "markdown",
   "metadata": {},
   "source": [
    "seperate gini and entropy graph"
   ]
  },
  {
   "cell_type": "code",
   "execution_count": 40,
   "metadata": {},
   "outputs": [
    {
     "name": "stderr",
     "output_type": "stream",
     "text": [
      "No artists with labels found to put in legend.  Note that artists whose label start with an underscore are ignored when legend() is called with no argument.\n"
     ]
    },
    {
     "data": {
      "image/png": "[encoded data removed]",
      "text/plain": [
       "<Figure size 1000x600 with 1 Axes>"
      ]
     },
     "metadata": {},
     "output_type": "display_data"
    },
    {
     "data": {
      "image/png": "[encoded data removed]",
      "text/plain": [
       "<Figure size 1000x600 with 1 Axes>"
      ]
     },
     "metadata": {},
     "output_type": "display_data"
    }
   ],
   "source": [
    "import numpy as np\n",
    "import matplotlib.pyplot as plt\n",
    "import seaborn as sns\n",
    "\n",
    "# Extract relevant data for Gini and Entropy configurations\n",
    "gini_mask = results['param_criterion'] == 'gini'\n",
    "entropy_mask = results['param_criterion'] == 'entropy'\n",
    "\n",
    "gini_results = {\n",
    "    'n_estimators': np.array(results['param_n_estimators'])[gini_mask],\n",
    "    'mean_test_score': np.array(results['mean_test_score'])[gini_mask]\n",
    "}\n",
    "\n",
    "entropy_results = {\n",
    "    'n_estimators': np.array(results['param_n_estimators'])[entropy_mask],\n",
    "    'mean_test_score': np.array(results['mean_test_score'])[entropy_mask]\n",
    "}\n",
    "\n",
    "# Create a figure and axes for the Gini plot\n",
    "fig, ax1 = plt.subplots(figsize=(10, 6))\n",
    "\n",
    "# Plot the Gini results in blue\n",
    "sns.lineplot(x=gini_results['n_estimators'], y=gini_results['mean_test_score'], label='Gini', ax=ax1, color='blue')\n",
    "\n",
    "# Customize the Gini plot\n",
    "ax1.set_title('Randomized Search')\n",
    "ax1.set_xlabel('Number of Estimators')\n",
    "ax1.set_ylabel('Mean Test Score')\n",
    "ax1.legend(loc='upper left')\n",
    "\n",
    "# Create a figure and axes for the Entropy plot\n",
    "fig, ax2 = plt.subplots(figsize=(10, 6))\n",
    "\n",
    "# Plot the Entropy results in orange\n",
    "sns.lineplot(x=entropy_results['n_estimators'], y=entropy_results['mean_test_score'], label='Entropy', ax=ax2, color='orange')\n",
    "\n",
    "# Customize the Entropy plot\n",
    "ax2.set_title('Randomized Search')\n",
    "ax2.set_xlabel('Number of Estimators')\n",
    "ax2.set_ylabel('Mean Test Score')\n",
    "ax2.legend(loc='upper left')\n",
    "\n",
    "# Save the Gini and Entropy plots as PNG files\n",
    "save_path_gini = r'C:\\Shanila\\CSE\\cse445\\final_project\\git_project\\Machine_Learning_project\\sha\\result3\\gini_plot.png'\n",
    "save_path_entropy = r'C:\\Shanila\\CSE\\cse445\\final_project\\git_project\\Machine_Learning_project\\sha\\result3\\entropy_plot.png'\n",
    "plt.savefig(save_path_gini, bbox_inches='tight')\n",
    "plt.savefig(save_path_entropy, bbox_inches='tight')\n",
    "\n",
    "# Show the plots (optional)\n",
    "plt.show()\n"
   ]
  },
  {
   "cell_type": "code",
   "execution_count": 23,
   "metadata": {},
   "outputs": [
    {
     "name": "stdout",
     "output_type": "stream",
     "text": [
      "Fitting 3 folds for each of 10 candidates, totalling 30 fits\n",
      "{'mean_fit_time': array([1.06807303, 1.00800323, 0.72957786, 0.69509896, 0.13670746,\n",
      "       0.41849796, 0.12006656, 0.74870412, 0.66241622, 0.20442025]), 'std_fit_time': array([0.03461407, 0.0369456 , 0.01208609, 0.0371966 , 0.01163713,\n",
      "       0.00741355, 0.00267846, 0.01329784, 0.02292108, 0.01239926]), 'mean_score_time': array([0.08514539, 0.08049607, 0.05632361, 0.05900621, 0.01720126,\n",
      "       0.04451807, 0.0211037 , 0.04937998, 0.05545076, 0.02292236]), 'std_score_time': array([0.01064091, 0.00368888, 0.00684132, 0.00287955, 0.00170917,\n",
      "       0.00417534, 0.00340654, 0.00580348, 0.00419433, 0.00372854]), 'param_n_estimators': masked_array(data=[180, 180, 120, 120, 20, 80, 20, 140, 140, 40],\n",
      "             mask=[False, False, False, False, False, False, False, False,\n",
      "                   False, False],\n",
      "       fill_value='?',\n",
      "            dtype=object), 'param_min_samples_split': masked_array(data=[2, 2, 5, 5, 14, 5, 5, 5, 5, 14],\n",
      "             mask=[False, False, False, False, False, False, False, False,\n",
      "                   False, False],\n",
      "       fill_value='?',\n",
      "            dtype=object), 'param_min_samples_leaf': masked_array(data=[1, 4, 2, 1, 2, 6, 1, 4, 4, 8],\n",
      "             mask=[False, False, False, False, False, False, False, False,\n",
      "                   False, False],\n",
      "       fill_value='?',\n",
      "            dtype=object), 'param_max_features': masked_array(data=[25, 14, 23, 0.3, 13, 1, 1, 16, 'log2', 0.1],\n",
      "             mask=[False, False, False, False, False, False, False, False,\n",
      "                   False, False],\n",
      "       fill_value='?',\n",
      "            dtype=object), 'param_max_depth': masked_array(data=[10, 10, 10, 10, 10, 10, 10, 10, 10, 10],\n",
      "             mask=[False, False, False, False, False, False, False, False,\n",
      "                   False, False],\n",
      "       fill_value='?',\n",
      "            dtype=object), 'param_criterion': masked_array(data=['entropy', 'entropy', 'gini', 'entropy', 'gini',\n",
      "                   'entropy', 'gini', 'gini', 'gini', 'gini'],\n",
      "             mask=[False, False, False, False, False, False, False, False,\n",
      "                   False, False],\n",
      "       fill_value='?',\n",
      "            dtype=object), 'params': [{'n_estimators': 180, 'min_samples_split': 2, 'min_samples_leaf': 1, 'max_features': 25, 'max_depth': 10, 'criterion': 'entropy'}, {'n_estimators': 180, 'min_samples_split': 2, 'min_samples_leaf': 4, 'max_features': 14, 'max_depth': 10, 'criterion': 'entropy'}, {'n_estimators': 120, 'min_samples_split': 5, 'min_samples_leaf': 2, 'max_features': 23, 'max_depth': 10, 'criterion': 'gini'}, {'n_estimators': 120, 'min_samples_split': 5, 'min_samples_leaf': 1, 'max_features': 0.3, 'max_depth': 10, 'criterion': 'entropy'}, {'n_estimators': 20, 'min_samples_split': 14, 'min_samples_leaf': 2, 'max_features': 13, 'max_depth': 10, 'criterion': 'gini'}, {'n_estimators': 80, 'min_samples_split': 5, 'min_samples_leaf': 6, 'max_features': 1, 'max_depth': 10, 'criterion': 'entropy'}, {'n_estimators': 20, 'min_samples_split': 5, 'min_samples_leaf': 1, 'max_features': 1, 'max_depth': 10, 'criterion': 'gini'}, {'n_estimators': 140, 'min_samples_split': 5, 'min_samples_leaf': 4, 'max_features': 16, 'max_depth': 10, 'criterion': 'gini'}, {'n_estimators': 140, 'min_samples_split': 5, 'min_samples_leaf': 4, 'max_features': 'log2', 'max_depth': 10, 'criterion': 'gini'}, {'n_estimators': 40, 'min_samples_split': 14, 'min_samples_leaf': 8, 'max_features': 0.1, 'max_depth': 10, 'criterion': 'gini'}], 'split0_test_score': array([0.99613153, 0.99806576, 0.99613153, 0.99806576, 0.99806576,\n",
      "       0.99613153, 0.99613153, 0.99806576, 0.99613153, 0.99613153]), 'split1_test_score': array([0.98449612, 0.98643411, 0.98643411, 0.98643411, 0.98643411,\n",
      "       0.98449612, 0.98449612, 0.98643411, 0.98449612, 0.98449612]), 'split2_test_score': array([0.98643411, 0.98837209, 0.98837209, 0.98837209, 0.98837209,\n",
      "       0.98643411, 0.98643411, 0.98837209, 0.98643411, 0.98643411]), 'mean_test_score': array([0.98902059, 0.99095732, 0.99031258, 0.99095732, 0.99095732,\n",
      "       0.98902059, 0.98902059, 0.99095732, 0.98902059, 0.98902059]), 'std_test_score': array([0.00509006, 0.00508831, 0.00419   , 0.00508831, 0.00508831,\n",
      "       0.00509006, 0.00509006, 0.00508831, 0.00509006, 0.00509006]), 'rank_test_score': array([6, 1, 5, 1, 1, 6, 6, 1, 6, 6])}\n"
     ]
    }
   ],
   "source": [
    "import numpy as np\n",
    "from sklearn.model_selection import RandomizedSearchCV\n",
    "from sklearn.ensemble import RandomForestClassifier\n",
    "\n",
    "# Define your parameter grid\n",
    "n_estimators = [int(x) for x in np.linspace(start=20, stop=200, num=10)]\n",
    "max_features = ['auto', 'sqrt', 'log2']\n",
    "max_depth = [int(x) for x in np.linspace(10, 10, 10)]\n",
    "min_samples_split = [2, 5, 10, 14]\n",
    "min_samples_leaf = [1, 2, 4, 6, 8]\n",
    "\n",
    "random_grid = {\n",
    "    'n_estimators': n_estimators,\n",
    "    'max_features': ['auto', 'sqrt', 'log2'] + list(range(1, 27)) + [0.1, 0.2, 0.3, None],\n",
    "    'max_depth': max_depth,\n",
    "    'min_samples_split': min_samples_split,\n",
    "    'min_samples_leaf': min_samples_leaf,\n",
    "    'criterion': ['entropy', 'gini']\n",
    "}\n",
    "\n",
    "# Create your RandomForestClassifier\n",
    "rf = RandomForestClassifier()\n",
    "\n",
    "# Create RandomizedSearchCV\n",
    "rf_randomcv = RandomizedSearchCV(\n",
    "    estimator=rf,\n",
    "    param_distributions=random_grid,\n",
    "    n_iter=10,\n",
    "    cv=3,\n",
    "    verbose=2,\n",
    "    random_state=100,\n",
    "    n_jobs=-1\n",
    ")\n",
    "\n",
    "# Fit the randomized model\n",
    "rf_randomcv.fit(X_train, y_train)\n",
    "\n",
    "# Access the results\n",
    "results = rf_randomcv.cv_results_\n",
    "\n",
    "# Print or use the 'results' variable for visualization\n",
    "print(results)\n"
   ]
  },
  {
   "cell_type": "code",
   "execution_count": 24,
   "metadata": {},
   "outputs": [],
   "source": [
    "results = rf_randomcv.cv_results_\n"
   ]
  },
  {
   "cell_type": "code",
   "execution_count": 25,
   "metadata": {},
   "outputs": [
    {
     "data": {
      "text/plain": [
       "{'n_estimators': 180,\n",
       " 'min_samples_split': 2,\n",
       " 'min_samples_leaf': 4,\n",
       " 'max_features': 14,\n",
       " 'max_depth': 10,\n",
       " 'criterion': 'entropy'}"
      ]
     },
     "execution_count": 25,
     "metadata": {},
     "output_type": "execute_result"
    }
   ],
   "source": [
    "rf_randomcv.best_params_"
   ]
  },
  {
   "cell_type": "code",
   "execution_count": 26,
   "metadata": {},
   "outputs": [
    {
     "data": {
      "text/html": [
       "<style>#sk-container-id-2 {color: black;}#sk-container-id-2 pre{padding: 0;}#sk-container-id-2 div.sk-toggleable {background-color: white;}#sk-container-id-2 label.sk-toggleable__label {cursor: pointer;display: block;width: 100%;margin-bottom: 0;padding: 0.3em;box-sizing: border-box;text-align: center;}#sk-container-id-2 label.sk-toggleable__label-arrow:before {content: \"▸\";float: left;margin-right: 0.25em;color: #696969;}#sk-container-id-2 label.sk-toggleable__label-arrow:hover:before {color: black;}#sk-container-id-2 div.sk-estimator:hover label.sk-toggleable__label-arrow:before {color: black;}#sk-container-id-2 div.sk-toggleable__content {max-height: 0;max-width: 0;overflow: hidden;text-align: left;background-color: #f0f8ff;}#sk-container-id-2 div.sk-toggleable__content pre {margin: 0.2em;color: black;border-radius: 0.25em;background-color: #f0f8ff;}#sk-container-id-2 input.sk-toggleable__control:checked~div.sk-toggleable__content {max-height: 200px;max-width: 100%;overflow: auto;}#sk-container-id-2 input.sk-toggleable__control:checked~label.sk-toggleable__label-arrow:before {content: \"▾\";}#sk-container-id-2 div.sk-estimator input.sk-toggleable__control:checked~label.sk-toggleable__label {background-color: #d4ebff;}#sk-container-id-2 div.sk-label input.sk-toggleable__control:checked~label.sk-toggleable__label {background-color: #d4ebff;}#sk-container-id-2 input.sk-hidden--visually {border: 0;clip: rect(1px 1px 1px 1px);clip: rect(1px, 1px, 1px, 1px);height: 1px;margin: -1px;overflow: hidden;padding: 0;position: absolute;width: 1px;}#sk-container-id-2 div.sk-estimator {font-family: monospace;background-color: #f0f8ff;border: 1px dotted black;border-radius: 0.25em;box-sizing: border-box;margin-bottom: 0.5em;}#sk-container-id-2 div.sk-estimator:hover {background-color: #d4ebff;}#sk-container-id-2 div.sk-parallel-item::after {content: \"\";width: 100%;border-bottom: 1px solid gray;flex-grow: 1;}#sk-container-id-2 div.sk-label:hover label.sk-toggleable__label {background-color: #d4ebff;}#sk-container-id-2 div.sk-serial::before {content: \"\";position: absolute;border-left: 1px solid gray;box-sizing: border-box;top: 0;bottom: 0;left: 50%;z-index: 0;}#sk-container-id-2 div.sk-serial {display: flex;flex-direction: column;align-items: center;background-color: white;padding-right: 0.2em;padding-left: 0.2em;position: relative;}#sk-container-id-2 div.sk-item {position: relative;z-index: 1;}#sk-container-id-2 div.sk-parallel {display: flex;align-items: stretch;justify-content: center;background-color: white;position: relative;}#sk-container-id-2 div.sk-item::before, #sk-container-id-2 div.sk-parallel-item::before {content: \"\";position: absolute;border-left: 1px solid gray;box-sizing: border-box;top: 0;bottom: 0;left: 50%;z-index: -1;}#sk-container-id-2 div.sk-parallel-item {display: flex;flex-direction: column;z-index: 1;position: relative;background-color: white;}#sk-container-id-2 div.sk-parallel-item:first-child::after {align-self: flex-end;width: 50%;}#sk-container-id-2 div.sk-parallel-item:last-child::after {align-self: flex-start;width: 50%;}#sk-container-id-2 div.sk-parallel-item:only-child::after {width: 0;}#sk-container-id-2 div.sk-dashed-wrapped {border: 1px dashed gray;margin: 0 0.4em 0.5em 0.4em;box-sizing: border-box;padding-bottom: 0.4em;background-color: white;}#sk-container-id-2 div.sk-label label {font-family: monospace;font-weight: bold;display: inline-block;line-height: 1.2em;}#sk-container-id-2 div.sk-label-container {text-align: center;}#sk-container-id-2 div.sk-container {/* jupyter's `normalize.less` sets `[hidden] { display: none; }` but bootstrap.min.css set `[hidden] { display: none !important; }` so we also need the `!important` here to be able to override the default hidden behavior on the sphinx rendered scikit-learn.org. See: https://github.com/scikit-learn/scikit-learn/issues/21755 */display: inline-block !important;position: relative;}#sk-container-id-2 div.sk-text-repr-fallback {display: none;}</style><div id=\"sk-container-id-2\" class=\"sk-top-container\"><div class=\"sk-text-repr-fallback\"><pre>RandomizedSearchCV(cv=3, estimator=RandomForestClassifier(), n_jobs=-1,\n",
       "                   param_distributions={&#x27;criterion&#x27;: [&#x27;entropy&#x27;, &#x27;gini&#x27;],\n",
       "                                        &#x27;max_depth&#x27;: [10, 10, 10, 10, 10, 10,\n",
       "                                                      10, 10, 10, 10],\n",
       "                                        &#x27;max_features&#x27;: [&#x27;auto&#x27;, &#x27;sqrt&#x27;, &#x27;log2&#x27;,\n",
       "                                                         1, 2, 3, 4, 5, 6, 7, 8,\n",
       "                                                         9, 10, 11, 12, 13, 14,\n",
       "                                                         15, 16, 17, 18, 19, 20,\n",
       "                                                         21, 22, 23, 24, 25, 26,\n",
       "                                                         0.1, ...],\n",
       "                                        &#x27;min_samples_leaf&#x27;: [1, 2, 4, 6, 8],\n",
       "                                        &#x27;min_samples_split&#x27;: [2, 5, 10, 14],\n",
       "                                        &#x27;n_estimators&#x27;: [20, 40, 60, 80, 100,\n",
       "                                                         120, 140, 160, 180,\n",
       "                                                         200]},\n",
       "                   random_state=100, verbose=2)</pre><b>In a Jupyter environment, please rerun this cell to show the HTML representation or trust the notebook. <br />On GitHub, the HTML representation is unable to render, please try loading this page with nbviewer.org.</b></div><div class=\"sk-container\" hidden><div class=\"sk-item sk-dashed-wrapped\"><div class=\"sk-label-container\"><div class=\"sk-label sk-toggleable\"><input class=\"sk-toggleable__control sk-hidden--visually\" id=\"sk-estimator-id-4\" type=\"checkbox\" ><label for=\"sk-estimator-id-4\" class=\"sk-toggleable__label sk-toggleable__label-arrow\">RandomizedSearchCV</label><div class=\"sk-toggleable__content\"><pre>RandomizedSearchCV(cv=3, estimator=RandomForestClassifier(), n_jobs=-1,\n",
       "                   param_distributions={&#x27;criterion&#x27;: [&#x27;entropy&#x27;, &#x27;gini&#x27;],\n",
       "                                        &#x27;max_depth&#x27;: [10, 10, 10, 10, 10, 10,\n",
       "                                                      10, 10, 10, 10],\n",
       "                                        &#x27;max_features&#x27;: [&#x27;auto&#x27;, &#x27;sqrt&#x27;, &#x27;log2&#x27;,\n",
       "                                                         1, 2, 3, 4, 5, 6, 7, 8,\n",
       "                                                         9, 10, 11, 12, 13, 14,\n",
       "                                                         15, 16, 17, 18, 19, 20,\n",
       "                                                         21, 22, 23, 24, 25, 26,\n",
       "                                                         0.1, ...],\n",
       "                                        &#x27;min_samples_leaf&#x27;: [1, 2, 4, 6, 8],\n",
       "                                        &#x27;min_samples_split&#x27;: [2, 5, 10, 14],\n",
       "                                        &#x27;n_estimators&#x27;: [20, 40, 60, 80, 100,\n",
       "                                                         120, 140, 160, 180,\n",
       "                                                         200]},\n",
       "                   random_state=100, verbose=2)</pre></div></div></div><div class=\"sk-parallel\"><div class=\"sk-parallel-item\"><div class=\"sk-item\"><div class=\"sk-label-container\"><div class=\"sk-label sk-toggleable\"><input class=\"sk-toggleable__control sk-hidden--visually\" id=\"sk-estimator-id-5\" type=\"checkbox\" ><label for=\"sk-estimator-id-5\" class=\"sk-toggleable__label sk-toggleable__label-arrow\">estimator: RandomForestClassifier</label><div class=\"sk-toggleable__content\"><pre>RandomForestClassifier()</pre></div></div></div><div class=\"sk-serial\"><div class=\"sk-item\"><div class=\"sk-estimator sk-toggleable\"><input class=\"sk-toggleable__control sk-hidden--visually\" id=\"sk-estimator-id-6\" type=\"checkbox\" ><label for=\"sk-estimator-id-6\" class=\"sk-toggleable__label sk-toggleable__label-arrow\">RandomForestClassifier</label><div class=\"sk-toggleable__content\"><pre>RandomForestClassifier()</pre></div></div></div></div></div></div></div></div></div></div>"
      ],
      "text/plain": [
       "RandomizedSearchCV(cv=3, estimator=RandomForestClassifier(), n_jobs=-1,\n",
       "                   param_distributions={'criterion': ['entropy', 'gini'],\n",
       "                                        'max_depth': [10, 10, 10, 10, 10, 10,\n",
       "                                                      10, 10, 10, 10],\n",
       "                                        'max_features': ['auto', 'sqrt', 'log2',\n",
       "                                                         1, 2, 3, 4, 5, 6, 7, 8,\n",
       "                                                         9, 10, 11, 12, 13, 14,\n",
       "                                                         15, 16, 17, 18, 19, 20,\n",
       "                                                         21, 22, 23, 24, 25, 26,\n",
       "                                                         0.1, ...],\n",
       "                                        'min_samples_leaf': [1, 2, 4, 6, 8],\n",
       "                                        'min_samples_split': [2, 5, 10, 14],\n",
       "                                        'n_estimators': [20, 40, 60, 80, 100,\n",
       "                                                         120, 140, 160, 180,\n",
       "                                                         200]},\n",
       "                   random_state=100, verbose=2)"
      ]
     },
     "execution_count": 26,
     "metadata": {},
     "output_type": "execute_result"
    }
   ],
   "source": [
    "rf_randomcv\n"
   ]
  },
  {
   "cell_type": "code",
   "execution_count": 27,
   "metadata": {},
   "outputs": [
    {
     "data": {
      "text/html": [
       "<style>#sk-container-id-3 {color: black;}#sk-container-id-3 pre{padding: 0;}#sk-container-id-3 div.sk-toggleable {background-color: white;}#sk-container-id-3 label.sk-toggleable__label {cursor: pointer;display: block;width: 100%;margin-bottom: 0;padding: 0.3em;box-sizing: border-box;text-align: center;}#sk-container-id-3 label.sk-toggleable__label-arrow:before {content: \"▸\";float: left;margin-right: 0.25em;color: #696969;}#sk-container-id-3 label.sk-toggleable__label-arrow:hover:before {color: black;}#sk-container-id-3 div.sk-estimator:hover label.sk-toggleable__label-arrow:before {color: black;}#sk-container-id-3 div.sk-toggleable__content {max-height: 0;max-width: 0;overflow: hidden;text-align: left;background-color: #f0f8ff;}#sk-container-id-3 div.sk-toggleable__content pre {margin: 0.2em;color: black;border-radius: 0.25em;background-color: #f0f8ff;}#sk-container-id-3 input.sk-toggleable__control:checked~div.sk-toggleable__content {max-height: 200px;max-width: 100%;overflow: auto;}#sk-container-id-3 input.sk-toggleable__control:checked~label.sk-toggleable__label-arrow:before {content: \"▾\";}#sk-container-id-3 div.sk-estimator input.sk-toggleable__control:checked~label.sk-toggleable__label {background-color: #d4ebff;}#sk-container-id-3 div.sk-label input.sk-toggleable__control:checked~label.sk-toggleable__label {background-color: #d4ebff;}#sk-container-id-3 input.sk-hidden--visually {border: 0;clip: rect(1px 1px 1px 1px);clip: rect(1px, 1px, 1px, 1px);height: 1px;margin: -1px;overflow: hidden;padding: 0;position: absolute;width: 1px;}#sk-container-id-3 div.sk-estimator {font-family: monospace;background-color: #f0f8ff;border: 1px dotted black;border-radius: 0.25em;box-sizing: border-box;margin-bottom: 0.5em;}#sk-container-id-3 div.sk-estimator:hover {background-color: #d4ebff;}#sk-container-id-3 div.sk-parallel-item::after {content: \"\";width: 100%;border-bottom: 1px solid gray;flex-grow: 1;}#sk-container-id-3 div.sk-label:hover label.sk-toggleable__label {background-color: #d4ebff;}#sk-container-id-3 div.sk-serial::before {content: \"\";position: absolute;border-left: 1px solid gray;box-sizing: border-box;top: 0;bottom: 0;left: 50%;z-index: 0;}#sk-container-id-3 div.sk-serial {display: flex;flex-direction: column;align-items: center;background-color: white;padding-right: 0.2em;padding-left: 0.2em;position: relative;}#sk-container-id-3 div.sk-item {position: relative;z-index: 1;}#sk-container-id-3 div.sk-parallel {display: flex;align-items: stretch;justify-content: center;background-color: white;position: relative;}#sk-container-id-3 div.sk-item::before, #sk-container-id-3 div.sk-parallel-item::before {content: \"\";position: absolute;border-left: 1px solid gray;box-sizing: border-box;top: 0;bottom: 0;left: 50%;z-index: -1;}#sk-container-id-3 div.sk-parallel-item {display: flex;flex-direction: column;z-index: 1;position: relative;background-color: white;}#sk-container-id-3 div.sk-parallel-item:first-child::after {align-self: flex-end;width: 50%;}#sk-container-id-3 div.sk-parallel-item:last-child::after {align-self: flex-start;width: 50%;}#sk-container-id-3 div.sk-parallel-item:only-child::after {width: 0;}#sk-container-id-3 div.sk-dashed-wrapped {border: 1px dashed gray;margin: 0 0.4em 0.5em 0.4em;box-sizing: border-box;padding-bottom: 0.4em;background-color: white;}#sk-container-id-3 div.sk-label label {font-family: monospace;font-weight: bold;display: inline-block;line-height: 1.2em;}#sk-container-id-3 div.sk-label-container {text-align: center;}#sk-container-id-3 div.sk-container {/* jupyter's `normalize.less` sets `[hidden] { display: none; }` but bootstrap.min.css set `[hidden] { display: none !important; }` so we also need the `!important` here to be able to override the default hidden behavior on the sphinx rendered scikit-learn.org. See: https://github.com/scikit-learn/scikit-learn/issues/21755 */display: inline-block !important;position: relative;}#sk-container-id-3 div.sk-text-repr-fallback {display: none;}</style><div id=\"sk-container-id-3\" class=\"sk-top-container\"><div class=\"sk-text-repr-fallback\"><pre>RandomForestClassifier(criterion=&#x27;entropy&#x27;, max_depth=10, max_features=14,\n",
       "                       min_samples_leaf=4, n_estimators=180)</pre><b>In a Jupyter environment, please rerun this cell to show the HTML representation or trust the notebook. <br />On GitHub, the HTML representation is unable to render, please try loading this page with nbviewer.org.</b></div><div class=\"sk-container\" hidden><div class=\"sk-item\"><div class=\"sk-estimator sk-toggleable\"><input class=\"sk-toggleable__control sk-hidden--visually\" id=\"sk-estimator-id-7\" type=\"checkbox\" checked><label for=\"sk-estimator-id-7\" class=\"sk-toggleable__label sk-toggleable__label-arrow\">RandomForestClassifier</label><div class=\"sk-toggleable__content\"><pre>RandomForestClassifier(criterion=&#x27;entropy&#x27;, max_depth=10, max_features=14,\n",
       "                       min_samples_leaf=4, n_estimators=180)</pre></div></div></div></div></div>"
      ],
      "text/plain": [
       "RandomForestClassifier(criterion='entropy', max_depth=10, max_features=14,\n",
       "                       min_samples_leaf=4, n_estimators=180)"
      ]
     },
     "execution_count": 27,
     "metadata": {},
     "output_type": "execute_result"
    }
   ],
   "source": [
    "rf_randomcv.best_estimator_"
   ]
  },
  {
   "cell_type": "code",
   "execution_count": 28,
   "metadata": {},
   "outputs": [],
   "source": [
    "best_random_grid=rf_randomcv.best_estimator_"
   ]
  },
  {
   "cell_type": "code",
   "execution_count": 29,
   "metadata": {},
   "outputs": [
    {
     "name": "stdout",
     "output_type": "stream",
     "text": [
      "Accuracy Score 0.9948453608247423\n",
      "Classification report:               precision    recall  f1-score   support\n",
      "\n",
      "           0       0.99      1.00      0.99       179\n",
      "           1       1.00      0.99      1.00       209\n",
      "\n",
      "    accuracy                           0.99       388\n",
      "   macro avg       0.99      1.00      0.99       388\n",
      "weighted avg       0.99      0.99      0.99       388\n",
      "\n"
     ]
    }
   ],
   "source": [
    "from sklearn.metrics import accuracy_score\n",
    "best_random_grid.fit(X_train, y_train)\n",
    "y_pred=best_random_grid.predict(X_test)\n",
    "# print(confusion_matrix(y_test,y_pred))\n",
    "print(\"Accuracy Score {}\".format(accuracy_score(y_test,y_pred)))\n",
    "print(\"Classification report: {}\".format(classification_report(y_test,y_pred)))"
   ]
  },
  {
   "cell_type": "markdown",
   "metadata": {},
   "source": [
    "save random search model best result"
   ]
  },
  {
   "cell_type": "code",
   "execution_count": 30,
   "metadata": {},
   "outputs": [
    {
     "name": "stdout",
     "output_type": "stream",
     "text": [
      "Results saved to C:/Shanila/CSE/cse445/final_project/git_project/Machine_Learning_project/sha/result3/randomized_search_model.txt\n"
     ]
    }
   ],
   "source": [
    "from sklearn.metrics import accuracy_score, classification_report\n",
    "\n",
    "best_random_grid.fit(X_train, y_train)\n",
    "y_pred = best_random_grid.predict(X_test)\n",
    "\n",
    "accuracy_score_model = accuracy_score(y_test, y_pred)\n",
    "classification_report_model = classification_report(y_test, y_pred)\n",
    "\n",
    "# Define the file path\n",
    "result_folder = 'C:/Shanila/CSE/cse445/final_project/git_project/Machine_Learning_project/sha/result3/'\n",
    "result_file_path = result_folder + 'randomized_search_model.txt'\n",
    "\n",
    "# Open the file for writing\n",
    "with open(result_file_path, 'w') as file:\n",
    "    file.write(\"Accuracy Score:\\n\")\n",
    "    file.write(f\"{accuracy_score_model}\\n\\n\")\n",
    "\n",
    "    file.write(\"Classification Report:\\n\")\n",
    "    file.write(f\"{classification_report_model}\\n\")\n",
    "\n",
    "print(f\"Results saved to {result_file_path}\")\n"
   ]
  },
  {
   "cell_type": "markdown",
   "metadata": {},
   "source": [
    "## grid search"
   ]
  },
  {
   "cell_type": "code",
   "execution_count": 31,
   "metadata": {},
   "outputs": [
    {
     "name": "stdout",
     "output_type": "stream",
     "text": [
      "{'criterion': ['entropy'], 'max_depth': [10], 'max_features': [14], 'min_samples_leaf': [4, 6, 8], 'min_samples_split': [2, 3, 4, 5], 'n_estimators': [-20, 80, 180, 280, 380]}\n"
     ]
    }
   ],
   "source": [
    "from sklearn.model_selection import GridSearchCV\n",
    "\n",
    "param_grid = {\n",
    "    'criterion': [rf_randomcv.best_params_['criterion']],\n",
    "    'max_depth': [rf_randomcv.best_params_['max_depth']],\n",
    "    'max_features': [rf_randomcv.best_params_['max_features']],\n",
    "    'min_samples_leaf': [rf_randomcv.best_params_['min_samples_leaf'], \n",
    "                         rf_randomcv.best_params_['min_samples_leaf'] + 2, \n",
    "                         rf_randomcv.best_params_['min_samples_leaf'] + 4],\n",
    "    'min_samples_split': [split for split in range(2, 6)],  # Choose valid values within the range\n",
    "    'n_estimators': [rf_randomcv.best_params_['n_estimators'] - 200, rf_randomcv.best_params_['n_estimators'] - 100, \n",
    "                     rf_randomcv.best_params_['n_estimators'], \n",
    "                     rf_randomcv.best_params_['n_estimators'] + 100, rf_randomcv.best_params_['n_estimators'] + 200]\n",
    "}\n",
    "\n",
    "\n",
    "print(param_grid)"
   ]
  },
  {
   "cell_type": "code",
   "execution_count": 32,
   "metadata": {},
   "outputs": [
    {
     "name": "stdout",
     "output_type": "stream",
     "text": [
      "Fitting 10 folds for each of 60 candidates, totalling 600 fits\n"
     ]
    },
    {
     "name": "stderr",
     "output_type": "stream",
     "text": [
      "c:\\Users\\nehli\\anaconda3\\envs\\myenv1\\Lib\\site-packages\\sklearn\\model_selection\\_validation.py:425: FitFailedWarning: \n",
      "120 fits failed out of a total of 600.\n",
      "The score on these train-test partitions for these parameters will be set to nan.\n",
      "If these failures are not expected, you can try to debug them by setting error_score='raise'.\n",
      "\n",
      "Below are more details about the failures:\n",
      "--------------------------------------------------------------------------------\n",
      "120 fits failed with the following error:\n",
      "Traceback (most recent call last):\n",
      "  File \"c:\\Users\\nehli\\anaconda3\\envs\\myenv1\\Lib\\site-packages\\sklearn\\model_selection\\_validation.py\", line 729, in _fit_and_score\n",
      "    estimator.fit(X_train, y_train, **fit_params)\n",
      "  File \"c:\\Users\\nehli\\anaconda3\\envs\\myenv1\\Lib\\site-packages\\sklearn\\base.py\", line 1145, in wrapper\n",
      "    estimator._validate_params()\n",
      "  File \"c:\\Users\\nehli\\anaconda3\\envs\\myenv1\\Lib\\site-packages\\sklearn\\base.py\", line 638, in _validate_params\n",
      "    validate_parameter_constraints(\n",
      "  File \"c:\\Users\\nehli\\anaconda3\\envs\\myenv1\\Lib\\site-packages\\sklearn\\utils\\_param_validation.py\", line 96, in validate_parameter_constraints\n",
      "    raise InvalidParameterError(\n",
      "sklearn.utils._param_validation.InvalidParameterError: The 'n_estimators' parameter of RandomForestClassifier must be an int in the range [1, inf). Got -20 instead.\n",
      "\n",
      "  warnings.warn(some_fits_failed_message, FitFailedWarning)\n",
      "c:\\Users\\nehli\\anaconda3\\envs\\myenv1\\Lib\\site-packages\\sklearn\\model_selection\\_search.py:979: UserWarning: One or more of the test scores are non-finite: [       nan 0.99096355 0.99031839 0.99096355 0.99096355        nan\n",
      " 0.99096355 0.99096355 0.99096355 0.99096355        nan 0.99031839\n",
      " 0.99031839 0.99031839 0.99031839        nan 0.99031839 0.99031839\n",
      " 0.99096355 0.99031839        nan 0.99031839 0.99096355 0.99096355\n",
      " 0.99096355        nan 0.99031839 0.99031839 0.99096355 0.99096355\n",
      "        nan 0.99096355 0.99031839 0.99096355 0.99096355        nan\n",
      " 0.99096355 0.99096355 0.99096355 0.99031839        nan 0.99031839\n",
      " 0.99031839 0.99096355 0.99096355        nan 0.99031839 0.99031839\n",
      " 0.99096355 0.99096355        nan 0.99096355 0.99031839 0.99096355\n",
      " 0.99096355        nan 0.99096355 0.99096355 0.99096355 0.99096355]\n",
      "  warnings.warn(\n"
     ]
    },
    {
     "data": {
      "text/html": [
       "<style>#sk-container-id-4 {color: black;}#sk-container-id-4 pre{padding: 0;}#sk-container-id-4 div.sk-toggleable {background-color: white;}#sk-container-id-4 label.sk-toggleable__label {cursor: pointer;display: block;width: 100%;margin-bottom: 0;padding: 0.3em;box-sizing: border-box;text-align: center;}#sk-container-id-4 label.sk-toggleable__label-arrow:before {content: \"▸\";float: left;margin-right: 0.25em;color: #696969;}#sk-container-id-4 label.sk-toggleable__label-arrow:hover:before {color: black;}#sk-container-id-4 div.sk-estimator:hover label.sk-toggleable__label-arrow:before {color: black;}#sk-container-id-4 div.sk-toggleable__content {max-height: 0;max-width: 0;overflow: hidden;text-align: left;background-color: #f0f8ff;}#sk-container-id-4 div.sk-toggleable__content pre {margin: 0.2em;color: black;border-radius: 0.25em;background-color: #f0f8ff;}#sk-container-id-4 input.sk-toggleable__control:checked~div.sk-toggleable__content {max-height: 200px;max-width: 100%;overflow: auto;}#sk-container-id-4 input.sk-toggleable__control:checked~label.sk-toggleable__label-arrow:before {content: \"▾\";}#sk-container-id-4 div.sk-estimator input.sk-toggleable__control:checked~label.sk-toggleable__label {background-color: #d4ebff;}#sk-container-id-4 div.sk-label input.sk-toggleable__control:checked~label.sk-toggleable__label {background-color: #d4ebff;}#sk-container-id-4 input.sk-hidden--visually {border: 0;clip: rect(1px 1px 1px 1px);clip: rect(1px, 1px, 1px, 1px);height: 1px;margin: -1px;overflow: hidden;padding: 0;position: absolute;width: 1px;}#sk-container-id-4 div.sk-estimator {font-family: monospace;background-color: #f0f8ff;border: 1px dotted black;border-radius: 0.25em;box-sizing: border-box;margin-bottom: 0.5em;}#sk-container-id-4 div.sk-estimator:hover {background-color: #d4ebff;}#sk-container-id-4 div.sk-parallel-item::after {content: \"\";width: 100%;border-bottom: 1px solid gray;flex-grow: 1;}#sk-container-id-4 div.sk-label:hover label.sk-toggleable__label {background-color: #d4ebff;}#sk-container-id-4 div.sk-serial::before {content: \"\";position: absolute;border-left: 1px solid gray;box-sizing: border-box;top: 0;bottom: 0;left: 50%;z-index: 0;}#sk-container-id-4 div.sk-serial {display: flex;flex-direction: column;align-items: center;background-color: white;padding-right: 0.2em;padding-left: 0.2em;position: relative;}#sk-container-id-4 div.sk-item {position: relative;z-index: 1;}#sk-container-id-4 div.sk-parallel {display: flex;align-items: stretch;justify-content: center;background-color: white;position: relative;}#sk-container-id-4 div.sk-item::before, #sk-container-id-4 div.sk-parallel-item::before {content: \"\";position: absolute;border-left: 1px solid gray;box-sizing: border-box;top: 0;bottom: 0;left: 50%;z-index: -1;}#sk-container-id-4 div.sk-parallel-item {display: flex;flex-direction: column;z-index: 1;position: relative;background-color: white;}#sk-container-id-4 div.sk-parallel-item:first-child::after {align-self: flex-end;width: 50%;}#sk-container-id-4 div.sk-parallel-item:last-child::after {align-self: flex-start;width: 50%;}#sk-container-id-4 div.sk-parallel-item:only-child::after {width: 0;}#sk-container-id-4 div.sk-dashed-wrapped {border: 1px dashed gray;margin: 0 0.4em 0.5em 0.4em;box-sizing: border-box;padding-bottom: 0.4em;background-color: white;}#sk-container-id-4 div.sk-label label {font-family: monospace;font-weight: bold;display: inline-block;line-height: 1.2em;}#sk-container-id-4 div.sk-label-container {text-align: center;}#sk-container-id-4 div.sk-container {/* jupyter's `normalize.less` sets `[hidden] { display: none; }` but bootstrap.min.css set `[hidden] { display: none !important; }` so we also need the `!important` here to be able to override the default hidden behavior on the sphinx rendered scikit-learn.org. See: https://github.com/scikit-learn/scikit-learn/issues/21755 */display: inline-block !important;position: relative;}#sk-container-id-4 div.sk-text-repr-fallback {display: none;}</style><div id=\"sk-container-id-4\" class=\"sk-top-container\"><div class=\"sk-text-repr-fallback\"><pre>GridSearchCV(cv=10, estimator=RandomForestClassifier(), n_jobs=-1,\n",
       "             param_grid={&#x27;criterion&#x27;: [&#x27;entropy&#x27;], &#x27;max_depth&#x27;: [10],\n",
       "                         &#x27;max_features&#x27;: [14], &#x27;min_samples_leaf&#x27;: [4, 6, 8],\n",
       "                         &#x27;min_samples_split&#x27;: [2, 3, 4, 5],\n",
       "                         &#x27;n_estimators&#x27;: [-20, 80, 180, 280, 380]},\n",
       "             verbose=2)</pre><b>In a Jupyter environment, please rerun this cell to show the HTML representation or trust the notebook. <br />On GitHub, the HTML representation is unable to render, please try loading this page with nbviewer.org.</b></div><div class=\"sk-container\" hidden><div class=\"sk-item sk-dashed-wrapped\"><div class=\"sk-label-container\"><div class=\"sk-label sk-toggleable\"><input class=\"sk-toggleable__control sk-hidden--visually\" id=\"sk-estimator-id-8\" type=\"checkbox\" ><label for=\"sk-estimator-id-8\" class=\"sk-toggleable__label sk-toggleable__label-arrow\">GridSearchCV</label><div class=\"sk-toggleable__content\"><pre>GridSearchCV(cv=10, estimator=RandomForestClassifier(), n_jobs=-1,\n",
       "             param_grid={&#x27;criterion&#x27;: [&#x27;entropy&#x27;], &#x27;max_depth&#x27;: [10],\n",
       "                         &#x27;max_features&#x27;: [14], &#x27;min_samples_leaf&#x27;: [4, 6, 8],\n",
       "                         &#x27;min_samples_split&#x27;: [2, 3, 4, 5],\n",
       "                         &#x27;n_estimators&#x27;: [-20, 80, 180, 280, 380]},\n",
       "             verbose=2)</pre></div></div></div><div class=\"sk-parallel\"><div class=\"sk-parallel-item\"><div class=\"sk-item\"><div class=\"sk-label-container\"><div class=\"sk-label sk-toggleable\"><input class=\"sk-toggleable__control sk-hidden--visually\" id=\"sk-estimator-id-9\" type=\"checkbox\" ><label for=\"sk-estimator-id-9\" class=\"sk-toggleable__label sk-toggleable__label-arrow\">estimator: RandomForestClassifier</label><div class=\"sk-toggleable__content\"><pre>RandomForestClassifier()</pre></div></div></div><div class=\"sk-serial\"><div class=\"sk-item\"><div class=\"sk-estimator sk-toggleable\"><input class=\"sk-toggleable__control sk-hidden--visually\" id=\"sk-estimator-id-10\" type=\"checkbox\" ><label for=\"sk-estimator-id-10\" class=\"sk-toggleable__label sk-toggleable__label-arrow\">RandomForestClassifier</label><div class=\"sk-toggleable__content\"><pre>RandomForestClassifier()</pre></div></div></div></div></div></div></div></div></div></div>"
      ],
      "text/plain": [
       "GridSearchCV(cv=10, estimator=RandomForestClassifier(), n_jobs=-1,\n",
       "             param_grid={'criterion': ['entropy'], 'max_depth': [10],\n",
       "                         'max_features': [14], 'min_samples_leaf': [4, 6, 8],\n",
       "                         'min_samples_split': [2, 3, 4, 5],\n",
       "                         'n_estimators': [-20, 80, 180, 280, 380]},\n",
       "             verbose=2)"
      ]
     },
     "execution_count": 32,
     "metadata": {},
     "output_type": "execute_result"
    }
   ],
   "source": [
    "#### Fit the grid_search to the data\n",
    "rf=RandomForestClassifier()\n",
    "grid_search=GridSearchCV(estimator=rf,param_grid=param_grid,cv=10,n_jobs=-1,verbose=2)\n",
    "grid_search.fit(X_train,y_train)"
   ]
  },
  {
   "cell_type": "code",
   "execution_count": 33,
   "metadata": {},
   "outputs": [
    {
     "data": {
      "text/html": [
       "<style>#sk-container-id-5 {color: black;}#sk-container-id-5 pre{padding: 0;}#sk-container-id-5 div.sk-toggleable {background-color: white;}#sk-container-id-5 label.sk-toggleable__label {cursor: pointer;display: block;width: 100%;margin-bottom: 0;padding: 0.3em;box-sizing: border-box;text-align: center;}#sk-container-id-5 label.sk-toggleable__label-arrow:before {content: \"▸\";float: left;margin-right: 0.25em;color: #696969;}#sk-container-id-5 label.sk-toggleable__label-arrow:hover:before {color: black;}#sk-container-id-5 div.sk-estimator:hover label.sk-toggleable__label-arrow:before {color: black;}#sk-container-id-5 div.sk-toggleable__content {max-height: 0;max-width: 0;overflow: hidden;text-align: left;background-color: #f0f8ff;}#sk-container-id-5 div.sk-toggleable__content pre {margin: 0.2em;color: black;border-radius: 0.25em;background-color: #f0f8ff;}#sk-container-id-5 input.sk-toggleable__control:checked~div.sk-toggleable__content {max-height: 200px;max-width: 100%;overflow: auto;}#sk-container-id-5 input.sk-toggleable__control:checked~label.sk-toggleable__label-arrow:before {content: \"▾\";}#sk-container-id-5 div.sk-estimator input.sk-toggleable__control:checked~label.sk-toggleable__label {background-color: #d4ebff;}#sk-container-id-5 div.sk-label input.sk-toggleable__control:checked~label.sk-toggleable__label {background-color: #d4ebff;}#sk-container-id-5 input.sk-hidden--visually {border: 0;clip: rect(1px 1px 1px 1px);clip: rect(1px, 1px, 1px, 1px);height: 1px;margin: -1px;overflow: hidden;padding: 0;position: absolute;width: 1px;}#sk-container-id-5 div.sk-estimator {font-family: monospace;background-color: #f0f8ff;border: 1px dotted black;border-radius: 0.25em;box-sizing: border-box;margin-bottom: 0.5em;}#sk-container-id-5 div.sk-estimator:hover {background-color: #d4ebff;}#sk-container-id-5 div.sk-parallel-item::after {content: \"\";width: 100%;border-bottom: 1px solid gray;flex-grow: 1;}#sk-container-id-5 div.sk-label:hover label.sk-toggleable__label {background-color: #d4ebff;}#sk-container-id-5 div.sk-serial::before {content: \"\";position: absolute;border-left: 1px solid gray;box-sizing: border-box;top: 0;bottom: 0;left: 50%;z-index: 0;}#sk-container-id-5 div.sk-serial {display: flex;flex-direction: column;align-items: center;background-color: white;padding-right: 0.2em;padding-left: 0.2em;position: relative;}#sk-container-id-5 div.sk-item {position: relative;z-index: 1;}#sk-container-id-5 div.sk-parallel {display: flex;align-items: stretch;justify-content: center;background-color: white;position: relative;}#sk-container-id-5 div.sk-item::before, #sk-container-id-5 div.sk-parallel-item::before {content: \"\";position: absolute;border-left: 1px solid gray;box-sizing: border-box;top: 0;bottom: 0;left: 50%;z-index: -1;}#sk-container-id-5 div.sk-parallel-item {display: flex;flex-direction: column;z-index: 1;position: relative;background-color: white;}#sk-container-id-5 div.sk-parallel-item:first-child::after {align-self: flex-end;width: 50%;}#sk-container-id-5 div.sk-parallel-item:last-child::after {align-self: flex-start;width: 50%;}#sk-container-id-5 div.sk-parallel-item:only-child::after {width: 0;}#sk-container-id-5 div.sk-dashed-wrapped {border: 1px dashed gray;margin: 0 0.4em 0.5em 0.4em;box-sizing: border-box;padding-bottom: 0.4em;background-color: white;}#sk-container-id-5 div.sk-label label {font-family: monospace;font-weight: bold;display: inline-block;line-height: 1.2em;}#sk-container-id-5 div.sk-label-container {text-align: center;}#sk-container-id-5 div.sk-container {/* jupyter's `normalize.less` sets `[hidden] { display: none; }` but bootstrap.min.css set `[hidden] { display: none !important; }` so we also need the `!important` here to be able to override the default hidden behavior on the sphinx rendered scikit-learn.org. See: https://github.com/scikit-learn/scikit-learn/issues/21755 */display: inline-block !important;position: relative;}#sk-container-id-5 div.sk-text-repr-fallback {display: none;}</style><div id=\"sk-container-id-5\" class=\"sk-top-container\"><div class=\"sk-text-repr-fallback\"><pre>RandomForestClassifier(criterion=&#x27;entropy&#x27;, max_depth=10, max_features=14,\n",
       "                       min_samples_leaf=4, n_estimators=80)</pre><b>In a Jupyter environment, please rerun this cell to show the HTML representation or trust the notebook. <br />On GitHub, the HTML representation is unable to render, please try loading this page with nbviewer.org.</b></div><div class=\"sk-container\" hidden><div class=\"sk-item\"><div class=\"sk-estimator sk-toggleable\"><input class=\"sk-toggleable__control sk-hidden--visually\" id=\"sk-estimator-id-11\" type=\"checkbox\" checked><label for=\"sk-estimator-id-11\" class=\"sk-toggleable__label sk-toggleable__label-arrow\">RandomForestClassifier</label><div class=\"sk-toggleable__content\"><pre>RandomForestClassifier(criterion=&#x27;entropy&#x27;, max_depth=10, max_features=14,\n",
       "                       min_samples_leaf=4, n_estimators=80)</pre></div></div></div></div></div>"
      ],
      "text/plain": [
       "RandomForestClassifier(criterion='entropy', max_depth=10, max_features=14,\n",
       "                       min_samples_leaf=4, n_estimators=80)"
      ]
     },
     "execution_count": 33,
     "metadata": {},
     "output_type": "execute_result"
    }
   ],
   "source": [
    "grid_search.best_estimator_"
   ]
  },
  {
   "cell_type": "code",
   "execution_count": 34,
   "metadata": {},
   "outputs": [],
   "source": [
    "best_grid=grid_search.best_estimator_"
   ]
  },
  {
   "cell_type": "code",
   "execution_count": 35,
   "metadata": {},
   "outputs": [
    {
     "data": {
      "text/html": [
       "<style>#sk-container-id-6 {color: black;}#sk-container-id-6 pre{padding: 0;}#sk-container-id-6 div.sk-toggleable {background-color: white;}#sk-container-id-6 label.sk-toggleable__label {cursor: pointer;display: block;width: 100%;margin-bottom: 0;padding: 0.3em;box-sizing: border-box;text-align: center;}#sk-container-id-6 label.sk-toggleable__label-arrow:before {content: \"▸\";float: left;margin-right: 0.25em;color: #696969;}#sk-container-id-6 label.sk-toggleable__label-arrow:hover:before {color: black;}#sk-container-id-6 div.sk-estimator:hover label.sk-toggleable__label-arrow:before {color: black;}#sk-container-id-6 div.sk-toggleable__content {max-height: 0;max-width: 0;overflow: hidden;text-align: left;background-color: #f0f8ff;}#sk-container-id-6 div.sk-toggleable__content pre {margin: 0.2em;color: black;border-radius: 0.25em;background-color: #f0f8ff;}#sk-container-id-6 input.sk-toggleable__control:checked~div.sk-toggleable__content {max-height: 200px;max-width: 100%;overflow: auto;}#sk-container-id-6 input.sk-toggleable__control:checked~label.sk-toggleable__label-arrow:before {content: \"▾\";}#sk-container-id-6 div.sk-estimator input.sk-toggleable__control:checked~label.sk-toggleable__label {background-color: #d4ebff;}#sk-container-id-6 div.sk-label input.sk-toggleable__control:checked~label.sk-toggleable__label {background-color: #d4ebff;}#sk-container-id-6 input.sk-hidden--visually {border: 0;clip: rect(1px 1px 1px 1px);clip: rect(1px, 1px, 1px, 1px);height: 1px;margin: -1px;overflow: hidden;padding: 0;position: absolute;width: 1px;}#sk-container-id-6 div.sk-estimator {font-family: monospace;background-color: #f0f8ff;border: 1px dotted black;border-radius: 0.25em;box-sizing: border-box;margin-bottom: 0.5em;}#sk-container-id-6 div.sk-estimator:hover {background-color: #d4ebff;}#sk-container-id-6 div.sk-parallel-item::after {content: \"\";width: 100%;border-bottom: 1px solid gray;flex-grow: 1;}#sk-container-id-6 div.sk-label:hover label.sk-toggleable__label {background-color: #d4ebff;}#sk-container-id-6 div.sk-serial::before {content: \"\";position: absolute;border-left: 1px solid gray;box-sizing: border-box;top: 0;bottom: 0;left: 50%;z-index: 0;}#sk-container-id-6 div.sk-serial {display: flex;flex-direction: column;align-items: center;background-color: white;padding-right: 0.2em;padding-left: 0.2em;position: relative;}#sk-container-id-6 div.sk-item {position: relative;z-index: 1;}#sk-container-id-6 div.sk-parallel {display: flex;align-items: stretch;justify-content: center;background-color: white;position: relative;}#sk-container-id-6 div.sk-item::before, #sk-container-id-6 div.sk-parallel-item::before {content: \"\";position: absolute;border-left: 1px solid gray;box-sizing: border-box;top: 0;bottom: 0;left: 50%;z-index: -1;}#sk-container-id-6 div.sk-parallel-item {display: flex;flex-direction: column;z-index: 1;position: relative;background-color: white;}#sk-container-id-6 div.sk-parallel-item:first-child::after {align-self: flex-end;width: 50%;}#sk-container-id-6 div.sk-parallel-item:last-child::after {align-self: flex-start;width: 50%;}#sk-container-id-6 div.sk-parallel-item:only-child::after {width: 0;}#sk-container-id-6 div.sk-dashed-wrapped {border: 1px dashed gray;margin: 0 0.4em 0.5em 0.4em;box-sizing: border-box;padding-bottom: 0.4em;background-color: white;}#sk-container-id-6 div.sk-label label {font-family: monospace;font-weight: bold;display: inline-block;line-height: 1.2em;}#sk-container-id-6 div.sk-label-container {text-align: center;}#sk-container-id-6 div.sk-container {/* jupyter's `normalize.less` sets `[hidden] { display: none; }` but bootstrap.min.css set `[hidden] { display: none !important; }` so we also need the `!important` here to be able to override the default hidden behavior on the sphinx rendered scikit-learn.org. See: https://github.com/scikit-learn/scikit-learn/issues/21755 */display: inline-block !important;position: relative;}#sk-container-id-6 div.sk-text-repr-fallback {display: none;}</style><div id=\"sk-container-id-6\" class=\"sk-top-container\"><div class=\"sk-text-repr-fallback\"><pre>RandomForestClassifier(criterion=&#x27;entropy&#x27;, max_depth=10, max_features=14,\n",
       "                       min_samples_leaf=4, n_estimators=80)</pre><b>In a Jupyter environment, please rerun this cell to show the HTML representation or trust the notebook. <br />On GitHub, the HTML representation is unable to render, please try loading this page with nbviewer.org.</b></div><div class=\"sk-container\" hidden><div class=\"sk-item\"><div class=\"sk-estimator sk-toggleable\"><input class=\"sk-toggleable__control sk-hidden--visually\" id=\"sk-estimator-id-12\" type=\"checkbox\" checked><label for=\"sk-estimator-id-12\" class=\"sk-toggleable__label sk-toggleable__label-arrow\">RandomForestClassifier</label><div class=\"sk-toggleable__content\"><pre>RandomForestClassifier(criterion=&#x27;entropy&#x27;, max_depth=10, max_features=14,\n",
       "                       min_samples_leaf=4, n_estimators=80)</pre></div></div></div></div></div>"
      ],
      "text/plain": [
       "RandomForestClassifier(criterion='entropy', max_depth=10, max_features=14,\n",
       "                       min_samples_leaf=4, n_estimators=80)"
      ]
     },
     "execution_count": 35,
     "metadata": {},
     "output_type": "execute_result"
    }
   ],
   "source": [
    "best_grid"
   ]
  },
  {
   "cell_type": "code",
   "execution_count": 36,
   "metadata": {},
   "outputs": [
    {
     "name": "stdout",
     "output_type": "stream",
     "text": [
      "[[179   0]\n",
      " [  2 207]]\n",
      "Accuracy Score 0.9948453608247423\n",
      "Classification report:               precision    recall  f1-score   support\n",
      "\n",
      "           0       0.99      1.00      0.99       179\n",
      "           1       1.00      0.99      1.00       209\n",
      "\n",
      "    accuracy                           0.99       388\n",
      "   macro avg       0.99      1.00      0.99       388\n",
      "weighted avg       0.99      0.99      0.99       388\n",
      "\n"
     ]
    }
   ],
   "source": [
    "best_grid.fit(X_train, y_train)\n",
    "y_pred=best_grid.predict(X_test)\n",
    "print(confusion_matrix(y_test,y_pred))\n",
    "print(\"Accuracy Score {}\".format(accuracy_score(y_test,y_pred)))\n",
    "print(\"Classification report: {}\".format(classification_report(y_test,y_pred)))"
   ]
  },
  {
   "cell_type": "markdown",
   "metadata": {},
   "source": [
    "save grid search result"
   ]
  },
  {
   "cell_type": "code",
   "execution_count": 37,
   "metadata": {},
   "outputs": [],
   "source": [
    "import pandas as pd\n",
    "# Access the results from the grid search\n",
    "results = grid_search.cv_results_\n",
    "# Convert the results to a DataFrame\n",
    "results_df = pd.DataFrame(results)\n",
    "# Specify the file path for saving the results as a TSV (text) file\n",
    "result_file_path = r'C:\\Shanila\\CSE\\cse445\\final_project\\git_project\\Machine_Learning_project\\sha\\result3\\grid_search_results.txt'\n",
    "# Save the results to a TSV file\n",
    "results_df.to_csv(result_file_path, sep='\\t', index=False)\n"
   ]
  },
  {
   "cell_type": "markdown",
   "metadata": {},
   "source": [
    "generate graph for grid search"
   ]
  },
  {
   "cell_type": "code",
   "execution_count": 42,
   "metadata": {},
   "outputs": [
    {
     "ename": "ValueError",
     "evalue": "not enough values to unpack (expected 2, got 1)",
     "output_type": "error",
     "traceback": [
      "\u001b[1;31m---------------------------------------------------------------------------\u001b[0m",
      "\u001b[1;31mValueError\u001b[0m                                Traceback (most recent call last)",
      "\u001b[1;32mc:\\Shanila\\CSE\\cse445\\final_project\\git_project\\Machine_Learning_Project\\sha\\Learning_disorder.ipynb Cell 71\u001b[0m line \u001b[0;36m1\n\u001b[0;32m      <a href='vscode-notebook-cell:/c%3A/Shanila/CSE/cse445/final_project/git_project/Machine_Learning_Project/sha/Learning_disorder.ipynb#Y130sZmlsZQ%3D%3D?line=7'>8</a>\u001b[0m     results_data \u001b[39m=\u001b[39m file\u001b[39m.\u001b[39mread()\n\u001b[0;32m     <a href='vscode-notebook-cell:/c%3A/Shanila/CSE/cse445/final_project/git_project/Machine_Learning_Project/sha/Learning_disorder.ipynb#Y130sZmlsZQ%3D%3D?line=9'>10</a>\u001b[0m \u001b[39m# Split the data into Gini and Entropy sections\u001b[39;00m\n\u001b[1;32m---> <a href='vscode-notebook-cell:/c%3A/Shanila/CSE/cse445/final_project/git_project/Machine_Learning_Project/sha/Learning_disorder.ipynb#Y130sZmlsZQ%3D%3D?line=10'>11</a>\u001b[0m gini_section, entropy_section \u001b[39m=\u001b[39m results_data\u001b[39m.\u001b[39msplit(\u001b[39m\"\u001b[39m\u001b[39mEntropy:\u001b[39m\u001b[39m\"\u001b[39m)\n\u001b[0;32m     <a href='vscode-notebook-cell:/c%3A/Shanila/CSE/cse445/final_project/git_project/Machine_Learning_Project/sha/Learning_disorder.ipynb#Y130sZmlsZQ%3D%3D?line=12'>13</a>\u001b[0m \u001b[39m# Extract and process Gini and Entropy results\u001b[39;00m\n\u001b[0;32m     <a href='vscode-notebook-cell:/c%3A/Shanila/CSE/cse445/final_project/git_project/Machine_Learning_Project/sha/Learning_disorder.ipynb#Y130sZmlsZQ%3D%3D?line=13'>14</a>\u001b[0m \u001b[39mdef\u001b[39;00m \u001b[39mprocess_results\u001b[39m(section):\n",
      "\u001b[1;31mValueError\u001b[0m: not enough values to unpack (expected 2, got 1)"
     ]
    }
   ],
   "source": [
    "# Import necessary libraries\n",
    "import numpy as np\n",
    "\n",
    "# Load the results from the specified file\n",
    "results_file = r'C:\\Shanila\\CSE\\cse445\\final_project\\git_project\\Machine_Learning_Project\\sha\\result3\\grid_search_results.txt'\n",
    "\n",
    "with open(results_file, 'r') as file:\n",
    "    results_data = file.read()\n",
    "\n",
    "# Split the data into Gini and Entropy sections\n",
    "gini_section, entropy_section = results_data.split(\"Entropy:\")\n",
    "\n",
    "# Extract and process Gini and Entropy results\n",
    "def process_results(section):\n",
    "    lines = section.strip().split('\\n')[1:]  # Skip the header line\n",
    "    results = {}\n",
    "    for line in lines:\n",
    "        parts = line.split()\n",
    "        param_name = parts[0][:-1]\n",
    "        param_value = float(parts[1])\n",
    "        results[param_name] = param_value\n",
    "    return results\n",
    "\n",
    "gini_results = process_results(gini_section)\n",
    "entropy_results = process_results(entropy_section)\n",
    "\n",
    "# Compare the results\n",
    "comparison = {}\n",
    "for param_name in gini_results:\n",
    "    gini_value = gini_results[param_name]\n",
    "    entropy_value = entropy_results[param_name]\n",
    "    comparison[param_name] = {\n",
    "        'Gini': gini_value,\n",
    "        'Entropy': entropy_value,\n",
    "        'Difference': gini_value - entropy_value\n",
    "    }\n",
    "\n",
    "# Save the comparison to a text file\n",
    "output_file = r'C:\\Shanila\\CSE\\cse445\\final_project\\git_project\\Machine_Learning_Project\\sha\\result2\\comparison.txt'\n",
    "with open(output_file, 'w') as file:\n",
    "    file.write(\"Parameter  Gini  Entropy  Difference\\n\")\n",
    "    for param_name, values in comparison.items():\n",
    "        file.write(f\"{param_name}: {values['Gini']} {values['Entropy']} {values['Difference']}\\n\")\n"
   ]
  },
  {
   "cell_type": "markdown",
   "metadata": {},
   "source": [
    "## optuna"
   ]
  },
  {
   "cell_type": "markdown",
   "metadata": {},
   "source": [
    "hyperparameter tuning using optuna "
   ]
  },
  {
   "cell_type": "code",
   "execution_count": null,
   "metadata": {},
   "outputs": [],
   "source": [
    "import optuna\n",
    "import pandas as pd\n",
    "from sklearn.model_selection import cross_val_score\n",
    "from sklearn.ensemble import RandomForestClassifier\n",
    "\n",
    "# Define the objective function that Optuna will optimize\n",
    "def objective(trial):\n",
    "    # Define hyperparameters to optimize\n",
    "    n_estimators = trial.suggest_int('n_estimators', 100, 1000)\n",
    "    max_depth = trial.suggest_int('max_depth', 2, 32)\n",
    "    min_samples_split = trial.suggest_float('min_samples_split', 0.1, 1.0)\n",
    "    min_samples_leaf = trial.suggest_float('min_samples_leaf', 0.1, 0.5)\n",
    "    max_features = trial.suggest_categorical('max_features', ['sqrt', 'log2', None])\n",
    "    criterion = trial.suggest_categorical('criterion', ['gini', 'entropy'])\n",
    "\n",
    "    # Create the model with the hyperparameters\n",
    "    model = RandomForestClassifier(\n",
    "        n_estimators=n_estimators,\n",
    "        max_depth=max_depth,\n",
    "        min_samples_split=min_samples_split,\n",
    "        min_samples_leaf=min_samples_leaf,\n",
    "        max_features=max_features,\n",
    "        criterion=criterion,\n",
    "        random_state=42  # You can set a random seed for reproducibility\n",
    "    )\n",
    "\n",
    "    # Calculate the cross-validation score (change this according to your dataset)\n",
    "    cv_scores = cross_val_score(model, X, y, cv=5, scoring='accuracy')\n",
    "    mean_cv_score = cv_scores.mean()\n",
    "\n",
    "    return mean_cv_score\n",
    "\n",
    "# Create an Optuna study\n",
    "study = optuna.create_study(direction='maximize')  # We want to maximize the cross-validation score\n",
    "\n",
    "# Start the optimization process\n",
    "study.optimize(objective, n_trials=100)  # You can adjust the number of trials\n",
    "\n",
    "# Get the best hyperparameters\n",
    "best_params = study.best_params\n",
    "best_score = study.best_value\n",
    "\n",
    "print(\"Best Hyperparameters:\", best_params)\n",
    "print(\"Best Score:\", best_score)\n"
   ]
  },
  {
   "cell_type": "code",
   "execution_count": null,
   "metadata": {},
   "outputs": [],
   "source": []
  },
  {
   "cell_type": "code",
   "execution_count": null,
   "metadata": {},
   "outputs": [],
   "source": []
  },
  {
   "cell_type": "code",
   "execution_count": null,
   "metadata": {},
   "outputs": [],
   "source": []
  },
  {
   "cell_type": "code",
   "execution_count": null,
   "metadata": {},
   "outputs": [],
   "source": []
  },
  {
   "cell_type": "code",
   "execution_count": null,
   "metadata": {},
   "outputs": [],
   "source": []
  },
  {
   "cell_type": "markdown",
   "metadata": {},
   "source": [
    "# Optimizing Hyperparameters for Each Algorithm Separately"
   ]
  },
  {
   "cell_type": "markdown",
   "metadata": {},
   "source": [
    "Dummy classifier, hyperparameter optimization random search, grid search, baysean optimization and optuna"
   ]
  },
  {
   "cell_type": "code",
   "execution_count": null,
   "metadata": {},
   "outputs": [],
   "source": [
    "import numpy as np\n",
    "np.int = int"
   ]
  },
  {
   "cell_type": "code",
   "execution_count": null,
   "metadata": {},
   "outputs": [],
   "source": [
    "import pandas as pd\n",
    "from sklearn.dummy import DummyClassifier\n",
    "from sklearn.model_selection import RandomizedSearchCV, GridSearchCV\n",
    "from skopt import BayesSearchCV\n",
    "import optuna\n",
    "from sklearn.metrics import accuracy_score\\\n",
    "\n",
    "\n",
    "# Load the training and testing data from CSV files\n",
    "train_data = pd.read_csv(\"C:/Shanila/CSE/cse445/final_project/git_project/Machine_Learning_project/sha/train/train_data.csv\")\n",
    "test_data = pd.read_csv(\"C:/Shanila/CSE/cse445/final_project/git_project/Machine_Learning_project/sha/test/test_data.csv\")\n",
    "\n",
    "# Separate features (X) and target (y) for both training and testing data\n",
    "X_train = train_data.drop(columns=[\"Learning disorder\"])\n",
    "y_train = train_data[\"Learning disorder\"]\n",
    "X_test = test_data.drop(columns=[\"Learning disorder\"])\n",
    "y_test = test_data[\"Learning disorder\"]\n",
    "\n",
    "# Define the hyperparameter search space for the Dummy Classifier\n",
    "param_dist_dummy = {\n",
    "    'strategy': ['most_frequent', 'stratified', 'prior', 'uniform']\n",
    "}\n",
    "\n",
    "# Perform hyperparameter optimization for Dummy Classifier using RandomizedSearchCV, GridSearchCV, BayesSearchCV, or Optuna\n",
    "# Random Search\n",
    "dummy_random_search = RandomizedSearchCV(DummyClassifier(), param_distributions=param_dist_dummy, n_iter=10, cv=5, n_jobs=-1)\n",
    "dummy_random_search.fit(X_train, y_train)\n",
    "random_search_accuracy = dummy_random_search.score(X_test, y_test)\n",
    "\n",
    "# Grid Search\n",
    "dummy_grid_search = GridSearchCV(DummyClassifier(), param_grid=param_dist_dummy, cv=5, n_jobs=-1)\n",
    "dummy_grid_search.fit(X_train, y_train)\n",
    "grid_search_accuracy = dummy_grid_search.score(X_test, y_test)\n",
    "\n",
    "# Bayesian Optimization\n",
    "bayesian_opt = BayesSearchCV(DummyClassifier(), search_spaces=param_dist_dummy, n_iter=50, cv=5, n_jobs=-1)\n",
    "bayesian_opt.fit(X_train, y_train)\n",
    "bayesian_opt_accuracy = bayesian_opt.score(X_test, y_test)\n",
    "\n",
    "# Optuna\n",
    "def objective(trial):\n",
    "    strategy = trial.suggest_categorical('strategy', ['most_frequent', 'stratified', 'prior', 'uniform'])\n",
    "    dummy = DummyClassifier(strategy=strategy)\n",
    "    dummy.fit(X_train, y_train)\n",
    "    return dummy.score(X_test, y_test)\n",
    "\n",
    "study = optuna.create_study(direction='maximize')\n",
    "study.optimize(objective, n_trials=50)\n",
    "optuna_best_accuracy = study.best_value\n",
    "\n",
    "# Step 5: Save the accuracy results to a text file\n",
    "results_file = r'C:\\Shanila\\CSE\\cse445\\final_project\\git_project\\Machine_Learning_project\\sha\\hyperparameter_optimization\\dummy_classifier_results.txt'\n",
    "\n",
    "with open(results_file, 'w') as file:\n",
    "    file.write(f'Random Search Accuracy: {random_search_accuracy}\\n')\n",
    "    file.write(f'Grid Search Accuracy: {grid_search_accuracy}\\n')\n",
    "    file.write(f'Bayesian Optimization Accuracy: {bayesian_opt_accuracy}\\n')\n",
    "    file.write(f'Optuna Best Accuracy: {optuna_best_accuracy}\\n')\n"
   ]
  },
  {
   "cell_type": "markdown",
   "metadata": {},
   "source": [
    "decision tree classifier, hyperparameter optimization random search, grid search, baysean optimization and optuna"
   ]
  },
  {
   "cell_type": "code",
   "execution_count": null,
   "metadata": {},
   "outputs": [],
   "source": [
    "import pandas as pd\n",
    "from sklearn.tree import DecisionTreeClassifier\n",
    "from sklearn.model_selection import RandomizedSearchCV, GridSearchCV\n",
    "from skopt import BayesSearchCV\n",
    "import optuna\n",
    "from sklearn.metrics import accuracy_score\n",
    "\n",
    "# Load the training and testing data from CSV files\n",
    "train_data = pd.read_csv(\"C:/Shanila/CSE/cse445/final_project/git_project/Machine_Learning_project/sha/train/train_data.csv\")\n",
    "test_data = pd.read_csv(\"C:/Shanila/CSE/cse445/final_project/git_project/Machine_Learning_project/sha/test/test_data.csv\")\n",
    "\n",
    "# Separate features (X) and target (y) for both training and testing data\n",
    "X_train = train_data.drop(columns=[\"Learning disorder\"])\n",
    "y_train = train_data[\"Learning disorder\"]\n",
    "X_test = test_data.drop(columns=[\"Learning disorder\"])\n",
    "y_test = test_data[\"Learning disorder\"]\n",
    "\n",
    "# Define the hyperparameter search space for the Decision Tree\n",
    "param_dist_decision_tree = {\n",
    "    'criterion': ['gini', 'entropy'],\n",
    "    'splitter': ['best', 'random'],\n",
    "    'max_depth': [None, 10, 20, 30, 40, 50],\n",
    "    'min_samples_split': [2, 5, 10],\n",
    "    'min_samples_leaf': [1, 2, 4]\n",
    "}\n",
    "\n",
    "# Perform hyperparameter optimization for Decision Tree using RandomizedSearchCV, GridSearchCV, BayesSearchCV, or Optuna\n",
    "# Random Search\n",
    "decision_tree_random_search = RandomizedSearchCV(DecisionTreeClassifier(), param_distributions=param_dist_decision_tree, n_iter=10, cv=5, n_jobs=-1)\n",
    "decision_tree_random_search.fit(X_train, y_train)\n",
    "random_search_accuracy = decision_tree_random_search.score(X_test, y_test)\n",
    "\n",
    "# Grid Search\n",
    "decision_tree_grid_search = GridSearchCV(DecisionTreeClassifier(), param_grid=param_dist_decision_tree, cv=5, n_jobs=-1)\n",
    "decision_tree_grid_search.fit(X_train, y_train)\n",
    "grid_search_accuracy = decision_tree_grid_search.score(X_test, y_test)\n",
    "\n",
    "# Bayesian Optimization\n",
    "bayesian_opt = BayesSearchCV(DecisionTreeClassifier(), search_spaces=param_dist_decision_tree, n_iter=50, cv=5, n_jobs=-1)\n",
    "bayesian_opt.fit(X_train, y_train)\n",
    "bayesian_opt_accuracy = bayesian_opt.score(X_test, y_test)\n",
    "\n",
    "# Optuna\n",
    "def objective(trial):\n",
    "    params = {\n",
    "        'criterion': trial.suggest_categorical('criterion', ['gini', 'entropy']),\n",
    "        'splitter': trial.suggest_categorical('splitter', ['best', 'random']),\n",
    "        'max_depth': trial.suggest_int('max_depth', 10, 50),\n",
    "        'min_samples_split': trial.suggest_int('min_samples_split', 2, 10),\n",
    "        'min_samples_leaf': trial.suggest_int('min_samples_leaf', 1, 4)\n",
    "    }\n",
    "    model = DecisionTreeClassifier(**params)\n",
    "    model.fit(X_train, y_train)\n",
    "    return model.score(X_test, y_test)\n",
    "\n",
    "study = optuna.create_study(direction='maximize')\n",
    "study.optimize(objective, n_trials=50)\n",
    "optuna_best_accuracy = study.best_value\n",
    "\n",
    "# Step 5: Save the accuracy results to a text file\n",
    "results_file = r'C:\\Shanila\\CSE\\cse445\\final_project\\git_project\\Machine_Learning_project\\sha\\hyperparameter_optimization\\decision_tree_results.txt'\n",
    "\n",
    "with open(results_file, 'w') as file:\n",
    "    file.write(f'Random Search Accuracy: {random_search_accuracy}\\n')\n",
    "    file.write(f'Grid Search Accuracy: {grid_search_accuracy}\\n')\n",
    "    file.write(f'Bayesian Optimization Accuracy: {bayesian_opt_accuracy}\\n')\n",
    "    file.write(f'Optuna Best Accuracy: {optuna_best_accuracy}\\n')\n"
   ]
  },
  {
   "cell_type": "markdown",
   "metadata": {},
   "source": [
    "knn classifier, hyperparameter optimization random search, grid search, baysean optimization and optuna"
   ]
  },
  {
   "cell_type": "code",
   "execution_count": null,
   "metadata": {},
   "outputs": [],
   "source": [
    "import pandas as pd\n",
    "from sklearn.neighbors import KNeighborsClassifier\n",
    "from sklearn.model_selection import RandomizedSearchCV, GridSearchCV\n",
    "from skopt import BayesSearchCV\n",
    "import optuna\n",
    "from sklearn.metrics import accuracy_score\n",
    "\n",
    "# Load the training and testing data from CSV files\n",
    "train_data = pd.read_csv(\"C:/Shanila/CSE/cse445/final_project/git_project/Machine_Learning_project/sha/train/train_data.csv\")\n",
    "test_data = pd.read_csv(\"C:/Shanila/CSE/cse445/final_project/git_project/Machine_Learning_project/sha/test/test_data.csv\")\n",
    "\n",
    "# Separate features (X) and target (y) for both training and testing data\n",
    "X_train = train_data.drop(columns=[\"Learning disorder\"])\n",
    "y_train = train_data[\"Learning disorder\"]\n",
    "X_test = test_data.drop(columns=[\"Learning disorder\"])\n",
    "y_test = test_data[\"Learning disorder\"]\n",
    "\n",
    "# Define the hyperparameter search space for the KNN Classifier\n",
    "param_dist_knn = {\n",
    "    'n_neighbors': [3, 5, 7, 9],\n",
    "    'weights': ['uniform', 'distance'],\n",
    "    'p': [1, 2]\n",
    "}\n",
    "\n",
    "# Perform hyperparameter optimization for KNN Classifier using RandomizedSearchCV\n",
    "# Random Search\n",
    "knn_random_search = RandomizedSearchCV(KNeighborsClassifier(), param_distributions=param_dist_knn, n_iter=10, cv=5, n_jobs=-1)\n",
    "knn_random_search.fit(X_train, y_train)\n",
    "random_search_accuracy = knn_random_search.score(X_test, y_test)\n",
    "\n",
    "# Grid Search\n",
    "knn_grid_search = GridSearchCV(KNeighborsClassifier(), param_grid=param_dist_knn, cv=5, n_jobs=-1)\n",
    "knn_grid_search.fit(X_train, y_train)\n",
    "grid_search_accuracy = knn_grid_search.score(X_test, y_test)\n",
    "\n",
    "# Bayesian Optimization (BayesSearchCV)\n",
    "bayesian_opt = BayesSearchCV(KNeighborsClassifier(), search_spaces=param_dist_knn, n_iter=50, cv=5, n_jobs=-1)\n",
    "bayesian_opt.fit(X_train, y_train)\n",
    "bayesian_opt_accuracy = bayesian_opt.score(X_test, y_test)\n",
    "\n",
    "# Optuna\n",
    "def objective(trial):\n",
    "    n_neighbors = trial.suggest_int('n_neighbors', 3, 9)\n",
    "    weights = trial.suggest_categorical('weights', ['uniform', 'distance'])\n",
    "    p = trial.suggest_categorical('p', [1, 2])\n",
    "    \n",
    "    knn = KNeighborsClassifier(n_neighbors=n_neighbors, weights=weights, p=p)\n",
    "    knn.fit(X_train, y_train)\n",
    "    return knn.score(X_test, y_test)\n",
    "\n",
    "study = optuna.create_study(direction='maximize')\n",
    "study.optimize(objective, n_trials=50)\n",
    "optuna_best_accuracy = study.best_value\n",
    "\n",
    "# Step 5: Save the accuracy results to a text file\n",
    "results_file = r'C:\\Shanila\\CSE\\cse445\\final_project\\git_project\\Machine_Learning_project\\sha\\hyperparameter_optimization\\knn_classifier_results.txt'\n",
    "\n",
    "with open(results_file, 'w') as file:\n",
    "    file.write(f'Random Search Accuracy: {random_search_accuracy}\\n')\n",
    "    file.write(f'Grid Search Accuracy: {grid_search_accuracy}\\n')\n",
    "    file.write(f'Bayesian Optimization Accuracy: {bayesian_opt_accuracy}\\n')\n",
    "    file.write(f'Optuna Best Accuracy: {optuna_best_accuracy}\\n')\n"
   ]
  },
  {
   "cell_type": "markdown",
   "metadata": {},
   "source": [
    "Logistic Regression, hyperparameter optimization random search, grid search, baysean optimization and optuna"
   ]
  },
  {
   "cell_type": "code",
   "execution_count": null,
   "metadata": {},
   "outputs": [],
   "source": [
    "import pandas as pd\n",
    "from sklearn.linear_model import LogisticRegression\n",
    "from sklearn.model_selection import RandomizedSearchCV, GridSearchCV\n",
    "from skopt import BayesSearchCV\n",
    "import optuna\n",
    "from sklearn.metrics import accuracy_score\n",
    "import traceback\n",
    "\n",
    "# Load the training and testing data from CSV files\n",
    "train_data = pd.read_csv(\"C:/Shanila/CSE/cse445/final_project/git_project/Machine_Learning_project/sha/train/train_data.csv\")\n",
    "test_data = pd.read_csv(\"C:/Shanila/CSE/cse445/final_project/git_project/Machine_Learning_project/sha/test/test_data.csv\")\n",
    "\n",
    "# Separate features (X) and target (y) for both training and testing data\n",
    "X_train = train_data.drop(columns=[\"Learning disorder\"])\n",
    "y_train = train_data[\"Learning disorder\"]\n",
    "X_test = test_data.drop(columns=[\"Learning disorder\"])\n",
    "y_test = test_data[\"Learning disorder\"]\n",
    "\n",
    "# Define the hyperparameter search space for Logistic Regression\n",
    "param_dist_logistic = {\n",
    "    'penalty': ['l2'],  # Use 'l2' penalty for 'lbfgs' solver\n",
    "    'C': [0.001, 0.01, 0.1, 1.0, 10.0],\n",
    "    'solver': ['newton-cg', 'lbfgs', 'liblinear', 'saga'],\n",
    "    'max_iter': [100, 1000, 10000]\n",
    "}\n",
    "\n",
    "# Random Search\n",
    "logistic_random_search = RandomizedSearchCV(LogisticRegression(), param_distributions=param_dist_logistic, n_iter=10, cv=5, n_jobs=-1)\n",
    "logistic_random_search.fit(X_train, y_train)\n",
    "random_search_accuracy = logistic_random_search.score(X_test, y_test)\n",
    "\n",
    "# Grid Search\n",
    "logistic_grid_search = GridSearchCV(LogisticRegression(), param_grid=param_dist_logistic, cv=5, n_jobs=-1)\n",
    "logistic_grid_search.fit(X_train, y_train)\n",
    "grid_search_accuracy = logistic_grid_search.score(X_test, y_test)\n",
    "\n",
    "# Bayesian Optimization\n",
    "bayesian_opt = BayesSearchCV(LogisticRegression(), search_spaces=param_dist_logistic, n_iter=50, cv=5, n_jobs=-1)\n",
    "bayesian_opt.fit(X_train, y_train)\n",
    "bayesian_opt_accuracy = bayesian_opt.score(X_test, y_test)\n",
    "\n",
    "# Optuna\n",
    "def objective(trial):\n",
    "    try:\n",
    "        penalty = 'l2'  # Use 'l2' penalty for 'lbfgs' solver\n",
    "        C = trial.suggest_float('C', 1e-5, 1e5, log=True)\n",
    "        solver = trial.suggest_categorical('solver', ['newton-cg', 'lbfgs', 'liblinear', 'saga'])\n",
    "        max_iter = trial.suggest_int('max_iter', 100, 10000)\n",
    "\n",
    "        logistic = LogisticRegression(penalty=penalty, C=C, solver=solver, max_iter=max_iter)\n",
    "        logistic.fit(X_train, y_train)\n",
    "        return logistic.score(X_test, y_test)\n",
    "    except Exception as e:\n",
    "        print(f\"Trial failed: {str(e)}\")\n",
    "        traceback.print_exc()\n",
    "        return float('nan')\n",
    "\n",
    "study = optuna.create_study(direction='maximize')\n",
    "study.optimize(objective, n_trials=50)\n",
    "optuna_best_accuracy = study.best_value\n",
    "\n",
    "# Step 5: Save the accuracy results to a text file\n",
    "results_file = r'C:\\Shanila\\CSE\\cse445\\final_project\\git_project\\Machine_Learning_project\\sha\\hyperparameter_optimization\\logistic_regression_results.txt'\n",
    "\n",
    "with open(results_file, 'w') as file:\n",
    "    file.write(f'Random Search Accuracy: {random_search_accuracy}\\n')\n",
    "    file.write(f'Grid Search Accuracy: {grid_search_accuracy}\\n')\n",
    "    file.write(f'Bayesian Optimization Accuracy: {bayesian_opt_accuracy}\\n')\n",
    "    file.write(f'Optuna Best Accuracy: {optuna_best_accuracy}\\n')\n"
   ]
  },
  {
   "cell_type": "markdown",
   "metadata": {},
   "source": [
    "Random forest, hyperparameter optimization random search, grid search, baysean optimization and optuna"
   ]
  },
  {
   "cell_type": "code",
   "execution_count": null,
   "metadata": {},
   "outputs": [],
   "source": [
    "import pandas as pd\n",
    "from sklearn.ensemble import RandomForestClassifier\n",
    "from sklearn.model_selection import RandomizedSearchCV, GridSearchCV\n",
    "from skopt import BayesSearchCV\n",
    "import optuna\n",
    "from sklearn.metrics import accuracy_score\n",
    "\n",
    "# Load the training and testing data from CSV files\n",
    "train_data = pd.read_csv(\"C:/Shanila/CSE/cse445/final_project/git_project/Machine_Learning_project/sha/train/train_data.csv\")\n",
    "test_data = pd.read_csv(\"C:/Shanila/CSE/cse445/final_project/git_project/Machine_Learning_project/sha/test/test_data.csv\")\n",
    "\n",
    "# Separate features (X) and target (y) for both training and testing data\n",
    "X_train = train_data.drop(columns=[\"Learning disorder\"])\n",
    "y_train = train_data[\"Learning disorder\"]\n",
    "X_test = test_data.drop(columns=[\"Learning disorder\"])\n",
    "y_test = test_data[\"Learning disorder\"]\n",
    "\n",
    "# Define the hyperparameter search space for the Random Forest\n",
    "param_dist_random_forest = {\n",
    "    'n_estimators': [100, 200, 300],\n",
    "    'criterion': ['gini', 'entropy'],\n",
    "    'max_depth': [None, 10, 20, 30, 40, 50],\n",
    "    'min_samples_split': [2, 5, 10],\n",
    "    'min_samples_leaf': [1, 2, 4]\n",
    "}\n",
    "\n",
    "# Set a fixed value for 'max_features'\n",
    "max_features_value = 'sqrt'\n",
    "\n",
    "# Random Search\n",
    "random_forest_random_search = RandomizedSearchCV(RandomForestClassifier(max_features=max_features_value), param_distributions=param_dist_random_forest, n_iter=10, cv=5, n_jobs=-1)\n",
    "random_forest_random_search.fit(X_train, y_train)\n",
    "random_forest_random_search_accuracy = random_forest_random_search.score(X_test, y_test)\n",
    "\n",
    "# Grid Search\n",
    "random_forest_grid_search = GridSearchCV(RandomForestClassifier(max_features=max_features_value), param_grid=param_dist_random_forest, cv=5, n_jobs=-1)\n",
    "random_forest_grid_search.fit(X_train, y_train)\n",
    "random_forest_grid_search_accuracy = random_forest_grid_search.score(X_test, y_test)\n",
    "\n",
    "# Bayesian Optimization\n",
    "bayesian_opt = BayesSearchCV(RandomForestClassifier(max_features=max_features_value), search_spaces=param_dist_random_forest, n_iter=50, cv=5, n_jobs=-1)\n",
    "bayesian_opt.fit(X_train, y_train)\n",
    "bayesian_opt_accuracy = bayesian_opt.score(X_test, y_test)\n",
    "\n",
    "# Optuna\n",
    "def objective(trial):\n",
    "    params = {\n",
    "        'n_estimators': trial.suggest_int('n_estimators', 100, 300),\n",
    "        'criterion': trial.suggest_categorical('criterion', ['gini', 'entropy']),\n",
    "        'max_depth': trial.suggest_int('max_depth', 10, 50),\n",
    "        'min_samples_split': trial.suggest_int('min_samples_split', 2, 10),\n",
    "        'min_samples_leaf': trial.suggest_int('min_samples_leaf', 1, 4, step=1)  # Add step=1 to specify int data type\n",
    "    }\n",
    "\n",
    "    model = RandomForestClassifier(max_features=max_features_value, **params)\n",
    "    model.fit(X_train, y_train)\n",
    "    return model.score(X_test, y_test)\n",
    "\n",
    "study = optuna.create_study(direction='maximize')\n",
    "study.optimize(objective, n_trials=50)\n",
    "optuna_random_forest_best_accuracy = study.best_value\n",
    "\n",
    "# Step 5: Save the accuracy results to a text file\n",
    "results_file = r'C:\\Shanila\\CSE\\cse445\\final_project\\git_project\\Machine_Learning_project\\sha\\hyperparameter_optimization\\random_forest_results.txt'\n",
    "\n",
    "with open(results_file, 'w') as file:\n",
    "    file.write(f'Random Search Accuracy (Random Forest): {random_forest_random_search_accuracy}\\n')\n",
    "    file.write(f'Grid Search Accuracy (Random Forest): {random_forest_grid_search_accuracy}\\n')\n",
    "    file.write(f'Bayesian Optimization Accuracy (Random Forest): {bayesian_opt_accuracy}\\n')\n",
    "    file.write(f'Optuna Best Accuracy (Random Forest): {optuna_random_forest_best_accuracy}\\n')\n"
   ]
  },
  {
   "cell_type": "code",
   "execution_count": null,
   "metadata": {},
   "outputs": [],
   "source": []
  },
  {
   "cell_type": "code",
   "execution_count": null,
   "metadata": {},
   "outputs": [],
   "source": []
  },
  {
   "cell_type": "code",
   "execution_count": null,
   "metadata": {},
   "outputs": [],
   "source": []
  }
 ],
 "metadata": {
  "kernelspec": {
   "display_name": "myenv1",
   "language": "python",
   "name": "python3"
  },
  "language_info": {
   "codemirror_mode": {
    "name": "ipython",
    "version": 3
   },
   "file_extension": ".py",
   "mimetype": "text/x-python",
   "name": "python",
   "nbconvert_exporter": "python",
   "pygments_lexer": "ipython3",
   "version": "3.11.5"
  }
 },
 "nbformat": 4,
 "nbformat_minor": 2
}
